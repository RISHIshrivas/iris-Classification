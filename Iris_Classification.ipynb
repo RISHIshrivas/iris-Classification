{
  "nbformat": 4,
  "nbformat_minor": 0,
  "metadata": {
    "colab": {
      "provenance": [],
      "authorship_tag": "ABX9TyPvXH+TDBKwlIh6fi7w0uqN",
      "include_colab_link": true
    },
    "kernelspec": {
      "name": "python3",
      "display_name": "Python 3"
    },
    "language_info": {
      "name": "python"
    }
  },
  "cells": [
    {
      "cell_type": "markdown",
      "metadata": {
        "id": "view-in-github",
        "colab_type": "text"
      },
      "source": [
        "<a href=\"https://colab.research.google.com/github/RISHIshrivas/iris-Classification/blob/main/Iris_Classification.ipynb\" target=\"_parent\"><img src=\"https://colab.research.google.com/assets/colab-badge.svg\" alt=\"Open In Colab\"/></a>"
      ]
    },
    {
      "cell_type": "code",
      "execution_count": 1,
      "metadata": {
        "id": "PV9epTq6sH9N"
      },
      "outputs": [],
      "source": [
        "import numpy as np\n",
        "import pandas as pd\n",
        "import matplotlib.pyplot as plt\n",
        "import warnings\n",
        "warnings.filterwarnings(\"ignore\")\n",
        "from PIL import Image\n",
        "import os\n",
        "for dirname, _, filenames in os.walk('/kaggle/input'):\n",
        "    for filename in filenames:\n",
        "        print(os.path.join(dirname, filename))"
      ]
    },
    {
      "cell_type": "code",
      "source": [
        "os.environ['KAGGLE_USERNAME'] = \"chadrishi\"\n",
        "os.environ['KAGGLE_KEY'] = \"a0df0e1e6e5e52f43b3093ecafe10b7f\""
      ],
      "metadata": {
        "id": "_bt19I-lsj5i"
      },
      "execution_count": 3,
      "outputs": []
    },
    {
      "cell_type": "code",
      "source": [
        "from google.colab import files\n",
        "uploaded=files.upload()"
      ],
      "metadata": {
        "colab": {
          "base_uri": "https://localhost:8080/",
          "height": 73
        },
        "id": "93TrdMVzsWQJ",
        "outputId": "a471d163-75a8-4f2f-9d07-5797704227cc"
      },
      "execution_count": 5,
      "outputs": [
        {
          "output_type": "display_data",
          "data": {
            "text/plain": [
              "<IPython.core.display.HTML object>"
            ],
            "text/html": [
              "\n",
              "     <input type=\"file\" id=\"files-a3a29762-e60c-419a-a830-8a1537381336\" name=\"files[]\" multiple disabled\n",
              "        style=\"border:none\" />\n",
              "     <output id=\"result-a3a29762-e60c-419a-a830-8a1537381336\">\n",
              "      Upload widget is only available when the cell has been executed in the\n",
              "      current browser session. Please rerun this cell to enable.\n",
              "      </output>\n",
              "      <script>// Copyright 2017 Google LLC\n",
              "//\n",
              "// Licensed under the Apache License, Version 2.0 (the \"License\");\n",
              "// you may not use this file except in compliance with the License.\n",
              "// You may obtain a copy of the License at\n",
              "//\n",
              "//      http://www.apache.org/licenses/LICENSE-2.0\n",
              "//\n",
              "// Unless required by applicable law or agreed to in writing, software\n",
              "// distributed under the License is distributed on an \"AS IS\" BASIS,\n",
              "// WITHOUT WARRANTIES OR CONDITIONS OF ANY KIND, either express or implied.\n",
              "// See the License for the specific language governing permissions and\n",
              "// limitations under the License.\n",
              "\n",
              "/**\n",
              " * @fileoverview Helpers for google.colab Python module.\n",
              " */\n",
              "(function(scope) {\n",
              "function span(text, styleAttributes = {}) {\n",
              "  const element = document.createElement('span');\n",
              "  element.textContent = text;\n",
              "  for (const key of Object.keys(styleAttributes)) {\n",
              "    element.style[key] = styleAttributes[key];\n",
              "  }\n",
              "  return element;\n",
              "}\n",
              "\n",
              "// Max number of bytes which will be uploaded at a time.\n",
              "const MAX_PAYLOAD_SIZE = 100 * 1024;\n",
              "\n",
              "function _uploadFiles(inputId, outputId) {\n",
              "  const steps = uploadFilesStep(inputId, outputId);\n",
              "  const outputElement = document.getElementById(outputId);\n",
              "  // Cache steps on the outputElement to make it available for the next call\n",
              "  // to uploadFilesContinue from Python.\n",
              "  outputElement.steps = steps;\n",
              "\n",
              "  return _uploadFilesContinue(outputId);\n",
              "}\n",
              "\n",
              "// This is roughly an async generator (not supported in the browser yet),\n",
              "// where there are multiple asynchronous steps and the Python side is going\n",
              "// to poll for completion of each step.\n",
              "// This uses a Promise to block the python side on completion of each step,\n",
              "// then passes the result of the previous step as the input to the next step.\n",
              "function _uploadFilesContinue(outputId) {\n",
              "  const outputElement = document.getElementById(outputId);\n",
              "  const steps = outputElement.steps;\n",
              "\n",
              "  const next = steps.next(outputElement.lastPromiseValue);\n",
              "  return Promise.resolve(next.value.promise).then((value) => {\n",
              "    // Cache the last promise value to make it available to the next\n",
              "    // step of the generator.\n",
              "    outputElement.lastPromiseValue = value;\n",
              "    return next.value.response;\n",
              "  });\n",
              "}\n",
              "\n",
              "/**\n",
              " * Generator function which is called between each async step of the upload\n",
              " * process.\n",
              " * @param {string} inputId Element ID of the input file picker element.\n",
              " * @param {string} outputId Element ID of the output display.\n",
              " * @return {!Iterable<!Object>} Iterable of next steps.\n",
              " */\n",
              "function* uploadFilesStep(inputId, outputId) {\n",
              "  const inputElement = document.getElementById(inputId);\n",
              "  inputElement.disabled = false;\n",
              "\n",
              "  const outputElement = document.getElementById(outputId);\n",
              "  outputElement.innerHTML = '';\n",
              "\n",
              "  const pickedPromise = new Promise((resolve) => {\n",
              "    inputElement.addEventListener('change', (e) => {\n",
              "      resolve(e.target.files);\n",
              "    });\n",
              "  });\n",
              "\n",
              "  const cancel = document.createElement('button');\n",
              "  inputElement.parentElement.appendChild(cancel);\n",
              "  cancel.textContent = 'Cancel upload';\n",
              "  const cancelPromise = new Promise((resolve) => {\n",
              "    cancel.onclick = () => {\n",
              "      resolve(null);\n",
              "    };\n",
              "  });\n",
              "\n",
              "  // Wait for the user to pick the files.\n",
              "  const files = yield {\n",
              "    promise: Promise.race([pickedPromise, cancelPromise]),\n",
              "    response: {\n",
              "      action: 'starting',\n",
              "    }\n",
              "  };\n",
              "\n",
              "  cancel.remove();\n",
              "\n",
              "  // Disable the input element since further picks are not allowed.\n",
              "  inputElement.disabled = true;\n",
              "\n",
              "  if (!files) {\n",
              "    return {\n",
              "      response: {\n",
              "        action: 'complete',\n",
              "      }\n",
              "    };\n",
              "  }\n",
              "\n",
              "  for (const file of files) {\n",
              "    const li = document.createElement('li');\n",
              "    li.append(span(file.name, {fontWeight: 'bold'}));\n",
              "    li.append(span(\n",
              "        `(${file.type || 'n/a'}) - ${file.size} bytes, ` +\n",
              "        `last modified: ${\n",
              "            file.lastModifiedDate ? file.lastModifiedDate.toLocaleDateString() :\n",
              "                                    'n/a'} - `));\n",
              "    const percent = span('0% done');\n",
              "    li.appendChild(percent);\n",
              "\n",
              "    outputElement.appendChild(li);\n",
              "\n",
              "    const fileDataPromise = new Promise((resolve) => {\n",
              "      const reader = new FileReader();\n",
              "      reader.onload = (e) => {\n",
              "        resolve(e.target.result);\n",
              "      };\n",
              "      reader.readAsArrayBuffer(file);\n",
              "    });\n",
              "    // Wait for the data to be ready.\n",
              "    let fileData = yield {\n",
              "      promise: fileDataPromise,\n",
              "      response: {\n",
              "        action: 'continue',\n",
              "      }\n",
              "    };\n",
              "\n",
              "    // Use a chunked sending to avoid message size limits. See b/62115660.\n",
              "    let position = 0;\n",
              "    do {\n",
              "      const length = Math.min(fileData.byteLength - position, MAX_PAYLOAD_SIZE);\n",
              "      const chunk = new Uint8Array(fileData, position, length);\n",
              "      position += length;\n",
              "\n",
              "      const base64 = btoa(String.fromCharCode.apply(null, chunk));\n",
              "      yield {\n",
              "        response: {\n",
              "          action: 'append',\n",
              "          file: file.name,\n",
              "          data: base64,\n",
              "        },\n",
              "      };\n",
              "\n",
              "      let percentDone = fileData.byteLength === 0 ?\n",
              "          100 :\n",
              "          Math.round((position / fileData.byteLength) * 100);\n",
              "      percent.textContent = `${percentDone}% done`;\n",
              "\n",
              "    } while (position < fileData.byteLength);\n",
              "  }\n",
              "\n",
              "  // All done.\n",
              "  yield {\n",
              "    response: {\n",
              "      action: 'complete',\n",
              "    }\n",
              "  };\n",
              "}\n",
              "\n",
              "scope.google = scope.google || {};\n",
              "scope.google.colab = scope.google.colab || {};\n",
              "scope.google.colab._files = {\n",
              "  _uploadFiles,\n",
              "  _uploadFilesContinue,\n",
              "};\n",
              "})(self);\n",
              "</script> "
            ]
          },
          "metadata": {}
        },
        {
          "output_type": "stream",
          "name": "stdout",
          "text": [
            "Saving Iris.csv to Iris.csv\n"
          ]
        }
      ]
    },
    {
      "cell_type": "code",
      "source": [
        "iris = pd.read_csv('Iris.csv')\n",
        "iris.head()"
      ],
      "metadata": {
        "colab": {
          "base_uri": "https://localhost:8080/",
          "height": 206
        },
        "id": "0Y7edC-ftWo6",
        "outputId": "b7054c24-848e-4976-95f5-2608862a79a5"
      },
      "execution_count": 6,
      "outputs": [
        {
          "output_type": "execute_result",
          "data": {
            "text/plain": [
              "   SepalLengthCm  SepalWidthCm  PetalLengthCm  PetalWidthCm      Species\n",
              "0            5.1           3.5            1.4           0.2  Iris-setosa\n",
              "1            4.9           3.0            1.4           0.2  Iris-setosa\n",
              "2            4.7           3.2            1.3           0.2  Iris-setosa\n",
              "3            4.6           3.1            1.5           0.2  Iris-setosa\n",
              "4            5.0           3.6            1.4           0.2  Iris-setosa"
            ],
            "text/html": [
              "\n",
              "  <div id=\"df-55b11f51-3084-493a-9168-5a7f13c0b954\" class=\"colab-df-container\">\n",
              "    <div>\n",
              "<style scoped>\n",
              "    .dataframe tbody tr th:only-of-type {\n",
              "        vertical-align: middle;\n",
              "    }\n",
              "\n",
              "    .dataframe tbody tr th {\n",
              "        vertical-align: top;\n",
              "    }\n",
              "\n",
              "    .dataframe thead th {\n",
              "        text-align: right;\n",
              "    }\n",
              "</style>\n",
              "<table border=\"1\" class=\"dataframe\">\n",
              "  <thead>\n",
              "    <tr style=\"text-align: right;\">\n",
              "      <th></th>\n",
              "      <th>SepalLengthCm</th>\n",
              "      <th>SepalWidthCm</th>\n",
              "      <th>PetalLengthCm</th>\n",
              "      <th>PetalWidthCm</th>\n",
              "      <th>Species</th>\n",
              "    </tr>\n",
              "  </thead>\n",
              "  <tbody>\n",
              "    <tr>\n",
              "      <th>0</th>\n",
              "      <td>5.1</td>\n",
              "      <td>3.5</td>\n",
              "      <td>1.4</td>\n",
              "      <td>0.2</td>\n",
              "      <td>Iris-setosa</td>\n",
              "    </tr>\n",
              "    <tr>\n",
              "      <th>1</th>\n",
              "      <td>4.9</td>\n",
              "      <td>3.0</td>\n",
              "      <td>1.4</td>\n",
              "      <td>0.2</td>\n",
              "      <td>Iris-setosa</td>\n",
              "    </tr>\n",
              "    <tr>\n",
              "      <th>2</th>\n",
              "      <td>4.7</td>\n",
              "      <td>3.2</td>\n",
              "      <td>1.3</td>\n",
              "      <td>0.2</td>\n",
              "      <td>Iris-setosa</td>\n",
              "    </tr>\n",
              "    <tr>\n",
              "      <th>3</th>\n",
              "      <td>4.6</td>\n",
              "      <td>3.1</td>\n",
              "      <td>1.5</td>\n",
              "      <td>0.2</td>\n",
              "      <td>Iris-setosa</td>\n",
              "    </tr>\n",
              "    <tr>\n",
              "      <th>4</th>\n",
              "      <td>5.0</td>\n",
              "      <td>3.6</td>\n",
              "      <td>1.4</td>\n",
              "      <td>0.2</td>\n",
              "      <td>Iris-setosa</td>\n",
              "    </tr>\n",
              "  </tbody>\n",
              "</table>\n",
              "</div>\n",
              "    <div class=\"colab-df-buttons\">\n",
              "\n",
              "  <div class=\"colab-df-container\">\n",
              "    <button class=\"colab-df-convert\" onclick=\"convertToInteractive('df-55b11f51-3084-493a-9168-5a7f13c0b954')\"\n",
              "            title=\"Convert this dataframe to an interactive table.\"\n",
              "            style=\"display:none;\">\n",
              "\n",
              "  <svg xmlns=\"http://www.w3.org/2000/svg\" height=\"24px\" viewBox=\"0 -960 960 960\">\n",
              "    <path d=\"M120-120v-720h720v720H120Zm60-500h600v-160H180v160Zm220 220h160v-160H400v160Zm0 220h160v-160H400v160ZM180-400h160v-160H180v160Zm440 0h160v-160H620v160ZM180-180h160v-160H180v160Zm440 0h160v-160H620v160Z\"/>\n",
              "  </svg>\n",
              "    </button>\n",
              "\n",
              "  <style>\n",
              "    .colab-df-container {\n",
              "      display:flex;\n",
              "      gap: 12px;\n",
              "    }\n",
              "\n",
              "    .colab-df-convert {\n",
              "      background-color: #E8F0FE;\n",
              "      border: none;\n",
              "      border-radius: 50%;\n",
              "      cursor: pointer;\n",
              "      display: none;\n",
              "      fill: #1967D2;\n",
              "      height: 32px;\n",
              "      padding: 0 0 0 0;\n",
              "      width: 32px;\n",
              "    }\n",
              "\n",
              "    .colab-df-convert:hover {\n",
              "      background-color: #E2EBFA;\n",
              "      box-shadow: 0px 1px 2px rgba(60, 64, 67, 0.3), 0px 1px 3px 1px rgba(60, 64, 67, 0.15);\n",
              "      fill: #174EA6;\n",
              "    }\n",
              "\n",
              "    .colab-df-buttons div {\n",
              "      margin-bottom: 4px;\n",
              "    }\n",
              "\n",
              "    [theme=dark] .colab-df-convert {\n",
              "      background-color: #3B4455;\n",
              "      fill: #D2E3FC;\n",
              "    }\n",
              "\n",
              "    [theme=dark] .colab-df-convert:hover {\n",
              "      background-color: #434B5C;\n",
              "      box-shadow: 0px 1px 3px 1px rgba(0, 0, 0, 0.15);\n",
              "      filter: drop-shadow(0px 1px 2px rgba(0, 0, 0, 0.3));\n",
              "      fill: #FFFFFF;\n",
              "    }\n",
              "  </style>\n",
              "\n",
              "    <script>\n",
              "      const buttonEl =\n",
              "        document.querySelector('#df-55b11f51-3084-493a-9168-5a7f13c0b954 button.colab-df-convert');\n",
              "      buttonEl.style.display =\n",
              "        google.colab.kernel.accessAllowed ? 'block' : 'none';\n",
              "\n",
              "      async function convertToInteractive(key) {\n",
              "        const element = document.querySelector('#df-55b11f51-3084-493a-9168-5a7f13c0b954');\n",
              "        const dataTable =\n",
              "          await google.colab.kernel.invokeFunction('convertToInteractive',\n",
              "                                                    [key], {});\n",
              "        if (!dataTable) return;\n",
              "\n",
              "        const docLinkHtml = 'Like what you see? Visit the ' +\n",
              "          '<a target=\"_blank\" href=https://colab.research.google.com/notebooks/data_table.ipynb>data table notebook</a>'\n",
              "          + ' to learn more about interactive tables.';\n",
              "        element.innerHTML = '';\n",
              "        dataTable['output_type'] = 'display_data';\n",
              "        await google.colab.output.renderOutput(dataTable, element);\n",
              "        const docLink = document.createElement('div');\n",
              "        docLink.innerHTML = docLinkHtml;\n",
              "        element.appendChild(docLink);\n",
              "      }\n",
              "    </script>\n",
              "  </div>\n",
              "\n",
              "\n",
              "<div id=\"df-0e0af1c2-43af-4ae1-be42-3d6810f28ed9\">\n",
              "  <button class=\"colab-df-quickchart\" onclick=\"quickchart('df-0e0af1c2-43af-4ae1-be42-3d6810f28ed9')\"\n",
              "            title=\"Suggest charts\"\n",
              "            style=\"display:none;\">\n",
              "\n",
              "<svg xmlns=\"http://www.w3.org/2000/svg\" height=\"24px\"viewBox=\"0 0 24 24\"\n",
              "     width=\"24px\">\n",
              "    <g>\n",
              "        <path d=\"M19 3H5c-1.1 0-2 .9-2 2v14c0 1.1.9 2 2 2h14c1.1 0 2-.9 2-2V5c0-1.1-.9-2-2-2zM9 17H7v-7h2v7zm4 0h-2V7h2v10zm4 0h-2v-4h2v4z\"/>\n",
              "    </g>\n",
              "</svg>\n",
              "  </button>\n",
              "\n",
              "<style>\n",
              "  .colab-df-quickchart {\n",
              "      --bg-color: #E8F0FE;\n",
              "      --fill-color: #1967D2;\n",
              "      --hover-bg-color: #E2EBFA;\n",
              "      --hover-fill-color: #174EA6;\n",
              "      --disabled-fill-color: #AAA;\n",
              "      --disabled-bg-color: #DDD;\n",
              "  }\n",
              "\n",
              "  [theme=dark] .colab-df-quickchart {\n",
              "      --bg-color: #3B4455;\n",
              "      --fill-color: #D2E3FC;\n",
              "      --hover-bg-color: #434B5C;\n",
              "      --hover-fill-color: #FFFFFF;\n",
              "      --disabled-bg-color: #3B4455;\n",
              "      --disabled-fill-color: #666;\n",
              "  }\n",
              "\n",
              "  .colab-df-quickchart {\n",
              "    background-color: var(--bg-color);\n",
              "    border: none;\n",
              "    border-radius: 50%;\n",
              "    cursor: pointer;\n",
              "    display: none;\n",
              "    fill: var(--fill-color);\n",
              "    height: 32px;\n",
              "    padding: 0;\n",
              "    width: 32px;\n",
              "  }\n",
              "\n",
              "  .colab-df-quickchart:hover {\n",
              "    background-color: var(--hover-bg-color);\n",
              "    box-shadow: 0 1px 2px rgba(60, 64, 67, 0.3), 0 1px 3px 1px rgba(60, 64, 67, 0.15);\n",
              "    fill: var(--button-hover-fill-color);\n",
              "  }\n",
              "\n",
              "  .colab-df-quickchart-complete:disabled,\n",
              "  .colab-df-quickchart-complete:disabled:hover {\n",
              "    background-color: var(--disabled-bg-color);\n",
              "    fill: var(--disabled-fill-color);\n",
              "    box-shadow: none;\n",
              "  }\n",
              "\n",
              "  .colab-df-spinner {\n",
              "    border: 2px solid var(--fill-color);\n",
              "    border-color: transparent;\n",
              "    border-bottom-color: var(--fill-color);\n",
              "    animation:\n",
              "      spin 1s steps(1) infinite;\n",
              "  }\n",
              "\n",
              "  @keyframes spin {\n",
              "    0% {\n",
              "      border-color: transparent;\n",
              "      border-bottom-color: var(--fill-color);\n",
              "      border-left-color: var(--fill-color);\n",
              "    }\n",
              "    20% {\n",
              "      border-color: transparent;\n",
              "      border-left-color: var(--fill-color);\n",
              "      border-top-color: var(--fill-color);\n",
              "    }\n",
              "    30% {\n",
              "      border-color: transparent;\n",
              "      border-left-color: var(--fill-color);\n",
              "      border-top-color: var(--fill-color);\n",
              "      border-right-color: var(--fill-color);\n",
              "    }\n",
              "    40% {\n",
              "      border-color: transparent;\n",
              "      border-right-color: var(--fill-color);\n",
              "      border-top-color: var(--fill-color);\n",
              "    }\n",
              "    60% {\n",
              "      border-color: transparent;\n",
              "      border-right-color: var(--fill-color);\n",
              "    }\n",
              "    80% {\n",
              "      border-color: transparent;\n",
              "      border-right-color: var(--fill-color);\n",
              "      border-bottom-color: var(--fill-color);\n",
              "    }\n",
              "    90% {\n",
              "      border-color: transparent;\n",
              "      border-bottom-color: var(--fill-color);\n",
              "    }\n",
              "  }\n",
              "</style>\n",
              "\n",
              "  <script>\n",
              "    async function quickchart(key) {\n",
              "      const quickchartButtonEl =\n",
              "        document.querySelector('#' + key + ' button');\n",
              "      quickchartButtonEl.disabled = true;  // To prevent multiple clicks.\n",
              "      quickchartButtonEl.classList.add('colab-df-spinner');\n",
              "      try {\n",
              "        const charts = await google.colab.kernel.invokeFunction(\n",
              "            'suggestCharts', [key], {});\n",
              "      } catch (error) {\n",
              "        console.error('Error during call to suggestCharts:', error);\n",
              "      }\n",
              "      quickchartButtonEl.classList.remove('colab-df-spinner');\n",
              "      quickchartButtonEl.classList.add('colab-df-quickchart-complete');\n",
              "    }\n",
              "    (() => {\n",
              "      let quickchartButtonEl =\n",
              "        document.querySelector('#df-0e0af1c2-43af-4ae1-be42-3d6810f28ed9 button');\n",
              "      quickchartButtonEl.style.display =\n",
              "        google.colab.kernel.accessAllowed ? 'block' : 'none';\n",
              "    })();\n",
              "  </script>\n",
              "</div>\n",
              "\n",
              "    </div>\n",
              "  </div>\n"
            ]
          },
          "metadata": {},
          "execution_count": 6
        }
      ]
    },
    {
      "cell_type": "code",
      "source": [
        "iris"
      ],
      "metadata": {
        "colab": {
          "base_uri": "https://localhost:8080/",
          "height": 423
        },
        "id": "yI2Y04JdwByJ",
        "outputId": "1518a3f8-fb1a-42ea-a611-202e6fac15c4"
      },
      "execution_count": 7,
      "outputs": [
        {
          "output_type": "execute_result",
          "data": {
            "text/plain": [
              "     SepalLengthCm  SepalWidthCm  PetalLengthCm  PetalWidthCm         Species\n",
              "0              5.1           3.5            1.4           0.2     Iris-setosa\n",
              "1              4.9           3.0            1.4           0.2     Iris-setosa\n",
              "2              4.7           3.2            1.3           0.2     Iris-setosa\n",
              "3              4.6           3.1            1.5           0.2     Iris-setosa\n",
              "4              5.0           3.6            1.4           0.2     Iris-setosa\n",
              "..             ...           ...            ...           ...             ...\n",
              "145            6.7           3.0            5.2           2.3  Iris-virginica\n",
              "146            6.3           2.5            5.0           1.9  Iris-virginica\n",
              "147            6.5           3.0            5.2           2.0  Iris-virginica\n",
              "148            6.2           3.4            5.4           2.3  Iris-virginica\n",
              "149            5.9           3.0            5.1           1.8  Iris-virginica\n",
              "\n",
              "[150 rows x 5 columns]"
            ],
            "text/html": [
              "\n",
              "  <div id=\"df-964350ed-3d46-409d-b346-be7a0447764c\" class=\"colab-df-container\">\n",
              "    <div>\n",
              "<style scoped>\n",
              "    .dataframe tbody tr th:only-of-type {\n",
              "        vertical-align: middle;\n",
              "    }\n",
              "\n",
              "    .dataframe tbody tr th {\n",
              "        vertical-align: top;\n",
              "    }\n",
              "\n",
              "    .dataframe thead th {\n",
              "        text-align: right;\n",
              "    }\n",
              "</style>\n",
              "<table border=\"1\" class=\"dataframe\">\n",
              "  <thead>\n",
              "    <tr style=\"text-align: right;\">\n",
              "      <th></th>\n",
              "      <th>SepalLengthCm</th>\n",
              "      <th>SepalWidthCm</th>\n",
              "      <th>PetalLengthCm</th>\n",
              "      <th>PetalWidthCm</th>\n",
              "      <th>Species</th>\n",
              "    </tr>\n",
              "  </thead>\n",
              "  <tbody>\n",
              "    <tr>\n",
              "      <th>0</th>\n",
              "      <td>5.1</td>\n",
              "      <td>3.5</td>\n",
              "      <td>1.4</td>\n",
              "      <td>0.2</td>\n",
              "      <td>Iris-setosa</td>\n",
              "    </tr>\n",
              "    <tr>\n",
              "      <th>1</th>\n",
              "      <td>4.9</td>\n",
              "      <td>3.0</td>\n",
              "      <td>1.4</td>\n",
              "      <td>0.2</td>\n",
              "      <td>Iris-setosa</td>\n",
              "    </tr>\n",
              "    <tr>\n",
              "      <th>2</th>\n",
              "      <td>4.7</td>\n",
              "      <td>3.2</td>\n",
              "      <td>1.3</td>\n",
              "      <td>0.2</td>\n",
              "      <td>Iris-setosa</td>\n",
              "    </tr>\n",
              "    <tr>\n",
              "      <th>3</th>\n",
              "      <td>4.6</td>\n",
              "      <td>3.1</td>\n",
              "      <td>1.5</td>\n",
              "      <td>0.2</td>\n",
              "      <td>Iris-setosa</td>\n",
              "    </tr>\n",
              "    <tr>\n",
              "      <th>4</th>\n",
              "      <td>5.0</td>\n",
              "      <td>3.6</td>\n",
              "      <td>1.4</td>\n",
              "      <td>0.2</td>\n",
              "      <td>Iris-setosa</td>\n",
              "    </tr>\n",
              "    <tr>\n",
              "      <th>...</th>\n",
              "      <td>...</td>\n",
              "      <td>...</td>\n",
              "      <td>...</td>\n",
              "      <td>...</td>\n",
              "      <td>...</td>\n",
              "    </tr>\n",
              "    <tr>\n",
              "      <th>145</th>\n",
              "      <td>6.7</td>\n",
              "      <td>3.0</td>\n",
              "      <td>5.2</td>\n",
              "      <td>2.3</td>\n",
              "      <td>Iris-virginica</td>\n",
              "    </tr>\n",
              "    <tr>\n",
              "      <th>146</th>\n",
              "      <td>6.3</td>\n",
              "      <td>2.5</td>\n",
              "      <td>5.0</td>\n",
              "      <td>1.9</td>\n",
              "      <td>Iris-virginica</td>\n",
              "    </tr>\n",
              "    <tr>\n",
              "      <th>147</th>\n",
              "      <td>6.5</td>\n",
              "      <td>3.0</td>\n",
              "      <td>5.2</td>\n",
              "      <td>2.0</td>\n",
              "      <td>Iris-virginica</td>\n",
              "    </tr>\n",
              "    <tr>\n",
              "      <th>148</th>\n",
              "      <td>6.2</td>\n",
              "      <td>3.4</td>\n",
              "      <td>5.4</td>\n",
              "      <td>2.3</td>\n",
              "      <td>Iris-virginica</td>\n",
              "    </tr>\n",
              "    <tr>\n",
              "      <th>149</th>\n",
              "      <td>5.9</td>\n",
              "      <td>3.0</td>\n",
              "      <td>5.1</td>\n",
              "      <td>1.8</td>\n",
              "      <td>Iris-virginica</td>\n",
              "    </tr>\n",
              "  </tbody>\n",
              "</table>\n",
              "<p>150 rows × 5 columns</p>\n",
              "</div>\n",
              "    <div class=\"colab-df-buttons\">\n",
              "\n",
              "  <div class=\"colab-df-container\">\n",
              "    <button class=\"colab-df-convert\" onclick=\"convertToInteractive('df-964350ed-3d46-409d-b346-be7a0447764c')\"\n",
              "            title=\"Convert this dataframe to an interactive table.\"\n",
              "            style=\"display:none;\">\n",
              "\n",
              "  <svg xmlns=\"http://www.w3.org/2000/svg\" height=\"24px\" viewBox=\"0 -960 960 960\">\n",
              "    <path d=\"M120-120v-720h720v720H120Zm60-500h600v-160H180v160Zm220 220h160v-160H400v160Zm0 220h160v-160H400v160ZM180-400h160v-160H180v160Zm440 0h160v-160H620v160ZM180-180h160v-160H180v160Zm440 0h160v-160H620v160Z\"/>\n",
              "  </svg>\n",
              "    </button>\n",
              "\n",
              "  <style>\n",
              "    .colab-df-container {\n",
              "      display:flex;\n",
              "      gap: 12px;\n",
              "    }\n",
              "\n",
              "    .colab-df-convert {\n",
              "      background-color: #E8F0FE;\n",
              "      border: none;\n",
              "      border-radius: 50%;\n",
              "      cursor: pointer;\n",
              "      display: none;\n",
              "      fill: #1967D2;\n",
              "      height: 32px;\n",
              "      padding: 0 0 0 0;\n",
              "      width: 32px;\n",
              "    }\n",
              "\n",
              "    .colab-df-convert:hover {\n",
              "      background-color: #E2EBFA;\n",
              "      box-shadow: 0px 1px 2px rgba(60, 64, 67, 0.3), 0px 1px 3px 1px rgba(60, 64, 67, 0.15);\n",
              "      fill: #174EA6;\n",
              "    }\n",
              "\n",
              "    .colab-df-buttons div {\n",
              "      margin-bottom: 4px;\n",
              "    }\n",
              "\n",
              "    [theme=dark] .colab-df-convert {\n",
              "      background-color: #3B4455;\n",
              "      fill: #D2E3FC;\n",
              "    }\n",
              "\n",
              "    [theme=dark] .colab-df-convert:hover {\n",
              "      background-color: #434B5C;\n",
              "      box-shadow: 0px 1px 3px 1px rgba(0, 0, 0, 0.15);\n",
              "      filter: drop-shadow(0px 1px 2px rgba(0, 0, 0, 0.3));\n",
              "      fill: #FFFFFF;\n",
              "    }\n",
              "  </style>\n",
              "\n",
              "    <script>\n",
              "      const buttonEl =\n",
              "        document.querySelector('#df-964350ed-3d46-409d-b346-be7a0447764c button.colab-df-convert');\n",
              "      buttonEl.style.display =\n",
              "        google.colab.kernel.accessAllowed ? 'block' : 'none';\n",
              "\n",
              "      async function convertToInteractive(key) {\n",
              "        const element = document.querySelector('#df-964350ed-3d46-409d-b346-be7a0447764c');\n",
              "        const dataTable =\n",
              "          await google.colab.kernel.invokeFunction('convertToInteractive',\n",
              "                                                    [key], {});\n",
              "        if (!dataTable) return;\n",
              "\n",
              "        const docLinkHtml = 'Like what you see? Visit the ' +\n",
              "          '<a target=\"_blank\" href=https://colab.research.google.com/notebooks/data_table.ipynb>data table notebook</a>'\n",
              "          + ' to learn more about interactive tables.';\n",
              "        element.innerHTML = '';\n",
              "        dataTable['output_type'] = 'display_data';\n",
              "        await google.colab.output.renderOutput(dataTable, element);\n",
              "        const docLink = document.createElement('div');\n",
              "        docLink.innerHTML = docLinkHtml;\n",
              "        element.appendChild(docLink);\n",
              "      }\n",
              "    </script>\n",
              "  </div>\n",
              "\n",
              "\n",
              "<div id=\"df-f2db3296-a495-4696-9434-0a74594b76b8\">\n",
              "  <button class=\"colab-df-quickchart\" onclick=\"quickchart('df-f2db3296-a495-4696-9434-0a74594b76b8')\"\n",
              "            title=\"Suggest charts\"\n",
              "            style=\"display:none;\">\n",
              "\n",
              "<svg xmlns=\"http://www.w3.org/2000/svg\" height=\"24px\"viewBox=\"0 0 24 24\"\n",
              "     width=\"24px\">\n",
              "    <g>\n",
              "        <path d=\"M19 3H5c-1.1 0-2 .9-2 2v14c0 1.1.9 2 2 2h14c1.1 0 2-.9 2-2V5c0-1.1-.9-2-2-2zM9 17H7v-7h2v7zm4 0h-2V7h2v10zm4 0h-2v-4h2v4z\"/>\n",
              "    </g>\n",
              "</svg>\n",
              "  </button>\n",
              "\n",
              "<style>\n",
              "  .colab-df-quickchart {\n",
              "      --bg-color: #E8F0FE;\n",
              "      --fill-color: #1967D2;\n",
              "      --hover-bg-color: #E2EBFA;\n",
              "      --hover-fill-color: #174EA6;\n",
              "      --disabled-fill-color: #AAA;\n",
              "      --disabled-bg-color: #DDD;\n",
              "  }\n",
              "\n",
              "  [theme=dark] .colab-df-quickchart {\n",
              "      --bg-color: #3B4455;\n",
              "      --fill-color: #D2E3FC;\n",
              "      --hover-bg-color: #434B5C;\n",
              "      --hover-fill-color: #FFFFFF;\n",
              "      --disabled-bg-color: #3B4455;\n",
              "      --disabled-fill-color: #666;\n",
              "  }\n",
              "\n",
              "  .colab-df-quickchart {\n",
              "    background-color: var(--bg-color);\n",
              "    border: none;\n",
              "    border-radius: 50%;\n",
              "    cursor: pointer;\n",
              "    display: none;\n",
              "    fill: var(--fill-color);\n",
              "    height: 32px;\n",
              "    padding: 0;\n",
              "    width: 32px;\n",
              "  }\n",
              "\n",
              "  .colab-df-quickchart:hover {\n",
              "    background-color: var(--hover-bg-color);\n",
              "    box-shadow: 0 1px 2px rgba(60, 64, 67, 0.3), 0 1px 3px 1px rgba(60, 64, 67, 0.15);\n",
              "    fill: var(--button-hover-fill-color);\n",
              "  }\n",
              "\n",
              "  .colab-df-quickchart-complete:disabled,\n",
              "  .colab-df-quickchart-complete:disabled:hover {\n",
              "    background-color: var(--disabled-bg-color);\n",
              "    fill: var(--disabled-fill-color);\n",
              "    box-shadow: none;\n",
              "  }\n",
              "\n",
              "  .colab-df-spinner {\n",
              "    border: 2px solid var(--fill-color);\n",
              "    border-color: transparent;\n",
              "    border-bottom-color: var(--fill-color);\n",
              "    animation:\n",
              "      spin 1s steps(1) infinite;\n",
              "  }\n",
              "\n",
              "  @keyframes spin {\n",
              "    0% {\n",
              "      border-color: transparent;\n",
              "      border-bottom-color: var(--fill-color);\n",
              "      border-left-color: var(--fill-color);\n",
              "    }\n",
              "    20% {\n",
              "      border-color: transparent;\n",
              "      border-left-color: var(--fill-color);\n",
              "      border-top-color: var(--fill-color);\n",
              "    }\n",
              "    30% {\n",
              "      border-color: transparent;\n",
              "      border-left-color: var(--fill-color);\n",
              "      border-top-color: var(--fill-color);\n",
              "      border-right-color: var(--fill-color);\n",
              "    }\n",
              "    40% {\n",
              "      border-color: transparent;\n",
              "      border-right-color: var(--fill-color);\n",
              "      border-top-color: var(--fill-color);\n",
              "    }\n",
              "    60% {\n",
              "      border-color: transparent;\n",
              "      border-right-color: var(--fill-color);\n",
              "    }\n",
              "    80% {\n",
              "      border-color: transparent;\n",
              "      border-right-color: var(--fill-color);\n",
              "      border-bottom-color: var(--fill-color);\n",
              "    }\n",
              "    90% {\n",
              "      border-color: transparent;\n",
              "      border-bottom-color: var(--fill-color);\n",
              "    }\n",
              "  }\n",
              "</style>\n",
              "\n",
              "  <script>\n",
              "    async function quickchart(key) {\n",
              "      const quickchartButtonEl =\n",
              "        document.querySelector('#' + key + ' button');\n",
              "      quickchartButtonEl.disabled = true;  // To prevent multiple clicks.\n",
              "      quickchartButtonEl.classList.add('colab-df-spinner');\n",
              "      try {\n",
              "        const charts = await google.colab.kernel.invokeFunction(\n",
              "            'suggestCharts', [key], {});\n",
              "      } catch (error) {\n",
              "        console.error('Error during call to suggestCharts:', error);\n",
              "      }\n",
              "      quickchartButtonEl.classList.remove('colab-df-spinner');\n",
              "      quickchartButtonEl.classList.add('colab-df-quickchart-complete');\n",
              "    }\n",
              "    (() => {\n",
              "      let quickchartButtonEl =\n",
              "        document.querySelector('#df-f2db3296-a495-4696-9434-0a74594b76b8 button');\n",
              "      quickchartButtonEl.style.display =\n",
              "        google.colab.kernel.accessAllowed ? 'block' : 'none';\n",
              "    })();\n",
              "  </script>\n",
              "</div>\n",
              "\n",
              "  <div id=\"id_ec9fc27a-3bcf-481f-b194-2389064bf8be\">\n",
              "    <style>\n",
              "      .colab-df-generate {\n",
              "        background-color: #E8F0FE;\n",
              "        border: none;\n",
              "        border-radius: 50%;\n",
              "        cursor: pointer;\n",
              "        display: none;\n",
              "        fill: #1967D2;\n",
              "        height: 32px;\n",
              "        padding: 0 0 0 0;\n",
              "        width: 32px;\n",
              "      }\n",
              "\n",
              "      .colab-df-generate:hover {\n",
              "        background-color: #E2EBFA;\n",
              "        box-shadow: 0px 1px 2px rgba(60, 64, 67, 0.3), 0px 1px 3px 1px rgba(60, 64, 67, 0.15);\n",
              "        fill: #174EA6;\n",
              "      }\n",
              "\n",
              "      [theme=dark] .colab-df-generate {\n",
              "        background-color: #3B4455;\n",
              "        fill: #D2E3FC;\n",
              "      }\n",
              "\n",
              "      [theme=dark] .colab-df-generate:hover {\n",
              "        background-color: #434B5C;\n",
              "        box-shadow: 0px 1px 3px 1px rgba(0, 0, 0, 0.15);\n",
              "        filter: drop-shadow(0px 1px 2px rgba(0, 0, 0, 0.3));\n",
              "        fill: #FFFFFF;\n",
              "      }\n",
              "    </style>\n",
              "    <button class=\"colab-df-generate\" onclick=\"generateWithVariable('iris')\"\n",
              "            title=\"Generate code using this dataframe.\"\n",
              "            style=\"display:none;\">\n",
              "\n",
              "  <svg xmlns=\"http://www.w3.org/2000/svg\" height=\"24px\"viewBox=\"0 0 24 24\"\n",
              "       width=\"24px\">\n",
              "    <path d=\"M7,19H8.4L18.45,9,17,7.55,7,17.6ZM5,21V16.75L18.45,3.32a2,2,0,0,1,2.83,0l1.4,1.43a1.91,1.91,0,0,1,.58,1.4,1.91,1.91,0,0,1-.58,1.4L9.25,21ZM18.45,9,17,7.55Zm-12,3A5.31,5.31,0,0,0,4.9,8.1,5.31,5.31,0,0,0,1,6.5,5.31,5.31,0,0,0,4.9,4.9,5.31,5.31,0,0,0,6.5,1,5.31,5.31,0,0,0,8.1,4.9,5.31,5.31,0,0,0,12,6.5,5.46,5.46,0,0,0,6.5,12Z\"/>\n",
              "  </svg>\n",
              "    </button>\n",
              "    <script>\n",
              "      (() => {\n",
              "      const buttonEl =\n",
              "        document.querySelector('#id_ec9fc27a-3bcf-481f-b194-2389064bf8be button.colab-df-generate');\n",
              "      buttonEl.style.display =\n",
              "        google.colab.kernel.accessAllowed ? 'block' : 'none';\n",
              "\n",
              "      buttonEl.onclick = () => {\n",
              "        google.colab.notebook.generateWithVariable('iris');\n",
              "      }\n",
              "      })();\n",
              "    </script>\n",
              "  </div>\n",
              "\n",
              "    </div>\n",
              "  </div>\n"
            ]
          },
          "metadata": {},
          "execution_count": 7
        }
      ]
    },
    {
      "cell_type": "code",
      "source": [
        "y = iris.iloc[0:100, 4].values\n",
        "y = np.where(y == 'Iris-setosa', -1, 1)\n",
        "X = iris.iloc[0:100, [0, 2]].values"
      ],
      "metadata": {
        "id": "QgnPvAEJwErU"
      },
      "execution_count": 8,
      "outputs": []
    },
    {
      "cell_type": "code",
      "source": [
        "plt.scatter(X[:50, 0], X[:50, 1], color='red', marker='o', label='setosa')\n",
        "plt.scatter(X[50:100,0], X[50:100,1], color='blue', marker='x', label='versicolor')\n",
        "plt.xlabel('sepal length [cm]')\n",
        "plt.ylabel('petal length [cm]')\n",
        "plt.legend(loc='upper left')\n",
        "plt.show()"
      ],
      "metadata": {
        "colab": {
          "base_uri": "https://localhost:8080/",
          "height": 449
        },
        "id": "THYwFEESwWFL",
        "outputId": "234e0158-8338-4fff-a677-8c0582956e26"
      },
      "execution_count": 9,
      "outputs": [
        {
          "output_type": "display_data",
          "data": {
            "text/plain": [
              "<Figure size 640x480 with 1 Axes>"
            ],
            "image/png": "[encoded data removed]"
          },
          "metadata": {}
        }
      ]
    },
    {
      "cell_type": "code",
      "source": [
        "class Perceptron(object):\n",
        "    def __init__(self, eta = 0.01, n_iter = 50, random_state = 1):\n",
        "        self.eta = eta\n",
        "        self.n_iter = n_iter\n",
        "        self.random_state = random_state\n",
        "    def fit(self, X, y):\n",
        "        rgen = np.random.RandomState(self.random_state)\n",
        "        self.w_ = rgen.normal(loc = 0.0, scale = 0.01, size = 1 + X.shape[1])\n",
        "        self.errors_ = []\n",
        "\n",
        "        for _ in range(self.n_iter):\n",
        "            errors = 0\n",
        "            for xi, target in zip(X, y):\n",
        "                update = self.eta * (target - self.predict(xi))\n",
        "                self.w_[1:] += update * xi\n",
        "                self.w_[0] += update\n",
        "                errors += int(update != 0.0)\n",
        "            self.errors_.append(errors)\n",
        "        return self\n",
        "    def net_input(self, X):\n",
        "            return np.dot(X, self.w_[1:]) + self.w_[0]\n",
        "    def predict(self, X):\n",
        "        return np.where(self.net_input(X) >= 0.0, 1, -1)"
      ],
      "metadata": {
        "id": "EJOqx84dwX0o"
      },
      "execution_count": 10,
      "outputs": []
    },
    {
      "cell_type": "code",
      "source": [
        "ppn = Perceptron(eta=0.1, n_iter=10)"
      ],
      "metadata": {
        "id": "7Dv5kAsDwrqJ"
      },
      "execution_count": 11,
      "outputs": []
    },
    {
      "cell_type": "code",
      "source": [
        "ppn.fit(X, y);"
      ],
      "metadata": {
        "id": "DKR7v5kQwvMV"
      },
      "execution_count": 12,
      "outputs": []
    },
    {
      "cell_type": "code",
      "source": [
        "plt.plot(range(1, len(ppn.errors_) + 1),ppn.errors_, marker='o')\n",
        "plt.xlabel('Epochs')\n",
        "plt.ylabel('Number of updates')\n",
        "plt.show()"
      ],
      "metadata": {
        "colab": {
          "base_uri": "https://localhost:8080/",
          "height": 449
        },
        "id": "sif8Rz78wwyC",
        "outputId": "55a30625-9205-45b6-8f8e-5d64a92ebc0e"
      },
      "execution_count": 13,
      "outputs": [
        {
          "output_type": "display_data",
          "data": {
            "text/plain": [
              "<Figure size 640x480 with 1 Axes>"
            ],
            "image/png": "[encoded data removed]"
          },
          "metadata": {}
        }
      ]
    },
    {
      "cell_type": "code",
      "source": [
        "from matplotlib.colors import ListedColormap\n",
        "def plot_decision_regions(X, y, classifier, resolution=0.02):\n",
        "    # setup marker generator and color map\n",
        "    markers = ('s', 'x', 'o', '^', 'v')\n",
        "    colors = ('red', 'blue', 'lightgreen', 'gray', 'cyan')\n",
        "    cmap = ListedColormap(colors[:len(np.unique(y))])\n",
        "\n",
        "    # plot the decision surface\n",
        "    x1_min, x1_max = X[:, 0].min() - 1, X[:, 0].max() + 1\n",
        "    x2_min, x2_max = X[:, 1].min() - 1, X[:, 1].max() + 1\n",
        "    xx1, xx2 = np.meshgrid(np.arange(x1_min, x1_max, resolution),\n",
        "                           np.arange(x2_min, x2_max, resolution))\n",
        "    Z = classifier.predict(np.array([xx1.ravel(), xx2.ravel()]).T)\n",
        "    Z = Z.reshape(xx1.shape)\n",
        "    plt.contourf(xx1, xx2, Z, alpha=0.3, cmap=cmap)\n",
        "    plt.xlim(xx1.min(), xx1.max())\n",
        "    plt.ylim(xx2.min(), xx2.max())\n",
        "\n",
        "    # plot class examples\n",
        "    for idx, cl in enumerate(np.unique(y)):\n",
        "         plt.scatter(x=X[y == cl, 0],\n",
        "                     y=X[y == cl, 1],\n",
        "                     alpha=0.8,\n",
        "                     c=colors[idx],\n",
        "                     marker=markers[idx],\n",
        "                     label=cl,\n",
        "                     edgecolor='black')"
      ],
      "metadata": {
        "id": "R_w7_hSRwy-L"
      },
      "execution_count": 14,
      "outputs": []
    },
    {
      "cell_type": "code",
      "source": [
        "plot_decision_regions(X, y, classifier=ppn)\n",
        "plt.xlabel('sepal length [cm]')\n",
        "plt.ylabel('petal length [cm]')\n",
        "plt.legend(loc='upper left')\n",
        "plt.show();"
      ],
      "metadata": {
        "colab": {
          "base_uri": "https://localhost:8080/",
          "height": 450
        },
        "id": "FbYuQsI5w2r4",
        "outputId": "38b17057-3563-4743-b694-5bbdce2e86ef"
      },
      "execution_count": 15,
      "outputs": [
        {
          "output_type": "display_data",
          "data": {
            "text/plain": [
              "<Figure size 640x480 with 1 Axes>"
            ],
            "image/png": "[encoded data removed]"
          },
          "metadata": {}
        }
      ]
    },
    {
      "cell_type": "code",
      "source": [
        "iris.head(10).style.background_gradient(cmap='Reds')"
      ],
      "metadata": {
        "colab": {
          "base_uri": "https://localhost:8080/",
          "height": 362
        },
        "id": "3R2j6CBVw7Yy",
        "outputId": "9e581f2f-a4cd-434f-a2e0-c9dd876bf2d3"
      },
      "execution_count": 17,
      "outputs": [
        {
          "output_type": "execute_result",
          "data": {
            "text/plain": [
              "<pandas.io.formats.style.Styler at 0x7b1fb3ace560>"
            ],
            "text/html": [
              "<style type=\"text/css\">\n",
              "#T_b8aae_row0_col0, #T_b8aae_row4_col1 {\n",
              "  background-color: #d92523;\n",
              "  color: #f1f1f1;\n",
              "}\n",
              "#T_b8aae_row0_col1, #T_b8aae_row4_col0, #T_b8aae_row7_col0 {\n",
              "  background-color: #f14432;\n",
              "  color: #f1f1f1;\n",
              "}\n",
              "#T_b8aae_row0_col2, #T_b8aae_row1_col2, #T_b8aae_row4_col2, #T_b8aae_row6_col2, #T_b8aae_row8_col2 {\n",
              "  background-color: #fcbca2;\n",
              "  color: #000000;\n",
              "}\n",
              "#T_b8aae_row0_col3, #T_b8aae_row1_col3, #T_b8aae_row2_col3, #T_b8aae_row3_col3, #T_b8aae_row4_col3, #T_b8aae_row7_col3, #T_b8aae_row8_col3 {\n",
              "  background-color: #fca082;\n",
              "  color: #000000;\n",
              "}\n",
              "#T_b8aae_row1_col0, #T_b8aae_row3_col2, #T_b8aae_row6_col1, #T_b8aae_row7_col1, #T_b8aae_row7_col2, #T_b8aae_row9_col0, #T_b8aae_row9_col2 {\n",
              "  background-color: #fb694a;\n",
              "  color: #f1f1f1;\n",
              "}\n",
              "#T_b8aae_row1_col1 {\n",
              "  background-color: #fee5d8;\n",
              "  color: #000000;\n",
              "}\n",
              "#T_b8aae_row2_col0, #T_b8aae_row2_col1 {\n",
              "  background-color: #fcab8f;\n",
              "  color: #000000;\n",
              "}\n",
              "#T_b8aae_row2_col2, #T_b8aae_row8_col0, #T_b8aae_row8_col1, #T_b8aae_row9_col3 {\n",
              "  background-color: #fff5f0;\n",
              "  color: #000000;\n",
              "}\n",
              "#T_b8aae_row3_col0, #T_b8aae_row3_col1, #T_b8aae_row6_col0, #T_b8aae_row9_col1 {\n",
              "  background-color: #fdcab5;\n",
              "  color: #000000;\n",
              "}\n",
              "#T_b8aae_row5_col0, #T_b8aae_row5_col1, #T_b8aae_row5_col2, #T_b8aae_row5_col3 {\n",
              "  background-color: #67000d;\n",
              "  color: #f1f1f1;\n",
              "}\n",
              "#T_b8aae_row6_col3 {\n",
              "  background-color: #e32f27;\n",
              "  color: #f1f1f1;\n",
              "}\n",
              "</style>\n",
              "<table id=\"T_b8aae\" class=\"dataframe\">\n",
              "  <thead>\n",
              "    <tr>\n",
              "      <th class=\"blank level0\" >&nbsp;</th>\n",
              "      <th id=\"T_b8aae_level0_col0\" class=\"col_heading level0 col0\" >SepalLengthCm</th>\n",
              "      <th id=\"T_b8aae_level0_col1\" class=\"col_heading level0 col1\" >SepalWidthCm</th>\n",
              "      <th id=\"T_b8aae_level0_col2\" class=\"col_heading level0 col2\" >PetalLengthCm</th>\n",
              "      <th id=\"T_b8aae_level0_col3\" class=\"col_heading level0 col3\" >PetalWidthCm</th>\n",
              "      <th id=\"T_b8aae_level0_col4\" class=\"col_heading level0 col4\" >Species</th>\n",
              "    </tr>\n",
              "  </thead>\n",
              "  <tbody>\n",
              "    <tr>\n",
              "      <th id=\"T_b8aae_level0_row0\" class=\"row_heading level0 row0\" >0</th>\n",
              "      <td id=\"T_b8aae_row0_col0\" class=\"data row0 col0\" >5.100000</td>\n",
              "      <td id=\"T_b8aae_row0_col1\" class=\"data row0 col1\" >3.500000</td>\n",
              "      <td id=\"T_b8aae_row0_col2\" class=\"data row0 col2\" >1.400000</td>\n",
              "      <td id=\"T_b8aae_row0_col3\" class=\"data row0 col3\" >0.200000</td>\n",
              "      <td id=\"T_b8aae_row0_col4\" class=\"data row0 col4\" >Iris-setosa</td>\n",
              "    </tr>\n",
              "    <tr>\n",
              "      <th id=\"T_b8aae_level0_row1\" class=\"row_heading level0 row1\" >1</th>\n",
              "      <td id=\"T_b8aae_row1_col0\" class=\"data row1 col0\" >4.900000</td>\n",
              "      <td id=\"T_b8aae_row1_col1\" class=\"data row1 col1\" >3.000000</td>\n",
              "      <td id=\"T_b8aae_row1_col2\" class=\"data row1 col2\" >1.400000</td>\n",
              "      <td id=\"T_b8aae_row1_col3\" class=\"data row1 col3\" >0.200000</td>\n",
              "      <td id=\"T_b8aae_row1_col4\" class=\"data row1 col4\" >Iris-setosa</td>\n",
              "    </tr>\n",
              "    <tr>\n",
              "      <th id=\"T_b8aae_level0_row2\" class=\"row_heading level0 row2\" >2</th>\n",
              "      <td id=\"T_b8aae_row2_col0\" class=\"data row2 col0\" >4.700000</td>\n",
              "      <td id=\"T_b8aae_row2_col1\" class=\"data row2 col1\" >3.200000</td>\n",
              "      <td id=\"T_b8aae_row2_col2\" class=\"data row2 col2\" >1.300000</td>\n",
              "      <td id=\"T_b8aae_row2_col3\" class=\"data row2 col3\" >0.200000</td>\n",
              "      <td id=\"T_b8aae_row2_col4\" class=\"data row2 col4\" >Iris-setosa</td>\n",
              "    </tr>\n",
              "    <tr>\n",
              "      <th id=\"T_b8aae_level0_row3\" class=\"row_heading level0 row3\" >3</th>\n",
              "      <td id=\"T_b8aae_row3_col0\" class=\"data row3 col0\" >4.600000</td>\n",
              "      <td id=\"T_b8aae_row3_col1\" class=\"data row3 col1\" >3.100000</td>\n",
              "      <td id=\"T_b8aae_row3_col2\" class=\"data row3 col2\" >1.500000</td>\n",
              "      <td id=\"T_b8aae_row3_col3\" class=\"data row3 col3\" >0.200000</td>\n",
              "      <td id=\"T_b8aae_row3_col4\" class=\"data row3 col4\" >Iris-setosa</td>\n",
              "    </tr>\n",
              "    <tr>\n",
              "      <th id=\"T_b8aae_level0_row4\" class=\"row_heading level0 row4\" >4</th>\n",
              "      <td id=\"T_b8aae_row4_col0\" class=\"data row4 col0\" >5.000000</td>\n",
              "      <td id=\"T_b8aae_row4_col1\" class=\"data row4 col1\" >3.600000</td>\n",
              "      <td id=\"T_b8aae_row4_col2\" class=\"data row4 col2\" >1.400000</td>\n",
              "      <td id=\"T_b8aae_row4_col3\" class=\"data row4 col3\" >0.200000</td>\n",
              "      <td id=\"T_b8aae_row4_col4\" class=\"data row4 col4\" >Iris-setosa</td>\n",
              "    </tr>\n",
              "    <tr>\n",
              "      <th id=\"T_b8aae_level0_row5\" class=\"row_heading level0 row5\" >5</th>\n",
              "      <td id=\"T_b8aae_row5_col0\" class=\"data row5 col0\" >5.400000</td>\n",
              "      <td id=\"T_b8aae_row5_col1\" class=\"data row5 col1\" >3.900000</td>\n",
              "      <td id=\"T_b8aae_row5_col2\" class=\"data row5 col2\" >1.700000</td>\n",
              "      <td id=\"T_b8aae_row5_col3\" class=\"data row5 col3\" >0.400000</td>\n",
              "      <td id=\"T_b8aae_row5_col4\" class=\"data row5 col4\" >Iris-setosa</td>\n",
              "    </tr>\n",
              "    <tr>\n",
              "      <th id=\"T_b8aae_level0_row6\" class=\"row_heading level0 row6\" >6</th>\n",
              "      <td id=\"T_b8aae_row6_col0\" class=\"data row6 col0\" >4.600000</td>\n",
              "      <td id=\"T_b8aae_row6_col1\" class=\"data row6 col1\" >3.400000</td>\n",
              "      <td id=\"T_b8aae_row6_col2\" class=\"data row6 col2\" >1.400000</td>\n",
              "      <td id=\"T_b8aae_row6_col3\" class=\"data row6 col3\" >0.300000</td>\n",
              "      <td id=\"T_b8aae_row6_col4\" class=\"data row6 col4\" >Iris-setosa</td>\n",
              "    </tr>\n",
              "    <tr>\n",
              "      <th id=\"T_b8aae_level0_row7\" class=\"row_heading level0 row7\" >7</th>\n",
              "      <td id=\"T_b8aae_row7_col0\" class=\"data row7 col0\" >5.000000</td>\n",
              "      <td id=\"T_b8aae_row7_col1\" class=\"data row7 col1\" >3.400000</td>\n",
              "      <td id=\"T_b8aae_row7_col2\" class=\"data row7 col2\" >1.500000</td>\n",
              "      <td id=\"T_b8aae_row7_col3\" class=\"data row7 col3\" >0.200000</td>\n",
              "      <td id=\"T_b8aae_row7_col4\" class=\"data row7 col4\" >Iris-setosa</td>\n",
              "    </tr>\n",
              "    <tr>\n",
              "      <th id=\"T_b8aae_level0_row8\" class=\"row_heading level0 row8\" >8</th>\n",
              "      <td id=\"T_b8aae_row8_col0\" class=\"data row8 col0\" >4.400000</td>\n",
              "      <td id=\"T_b8aae_row8_col1\" class=\"data row8 col1\" >2.900000</td>\n",
              "      <td id=\"T_b8aae_row8_col2\" class=\"data row8 col2\" >1.400000</td>\n",
              "      <td id=\"T_b8aae_row8_col3\" class=\"data row8 col3\" >0.200000</td>\n",
              "      <td id=\"T_b8aae_row8_col4\" class=\"data row8 col4\" >Iris-setosa</td>\n",
              "    </tr>\n",
              "    <tr>\n",
              "      <th id=\"T_b8aae_level0_row9\" class=\"row_heading level0 row9\" >9</th>\n",
              "      <td id=\"T_b8aae_row9_col0\" class=\"data row9 col0\" >4.900000</td>\n",
              "      <td id=\"T_b8aae_row9_col1\" class=\"data row9 col1\" >3.100000</td>\n",
              "      <td id=\"T_b8aae_row9_col2\" class=\"data row9 col2\" >1.500000</td>\n",
              "      <td id=\"T_b8aae_row9_col3\" class=\"data row9 col3\" >0.100000</td>\n",
              "      <td id=\"T_b8aae_row9_col4\" class=\"data row9 col4\" >Iris-setosa</td>\n",
              "    </tr>\n",
              "  </tbody>\n",
              "</table>\n"
            ]
          },
          "metadata": {},
          "execution_count": 17
        }
      ]
    },
    {
      "cell_type": "code",
      "source": [
        "iris.tail(10).style.background_gradient(cmap='RdBu_r')"
      ],
      "metadata": {
        "colab": {
          "base_uri": "https://localhost:8080/",
          "height": 362
        },
        "id": "6OqKczz1xHIp",
        "outputId": "1524edb8-04b5-4289-cdce-a9e92c09f65c"
      },
      "execution_count": 19,
      "outputs": [
        {
          "output_type": "execute_result",
          "data": {
            "text/plain": [
              "<pandas.io.formats.style.Styler at 0x7b1fb38f8af0>"
            ],
            "text/html": [
              "<style type=\"text/css\">\n",
              "#T_3b253_row0_col0, #T_3b253_row4_col0, #T_3b253_row5_col0 {\n",
              "  background-color: #cf5246;\n",
              "  color: #f1f1f1;\n",
              "}\n",
              "#T_3b253_row0_col1, #T_3b253_row0_col2, #T_3b253_row1_col1 {\n",
              "  background-color: #f7b799;\n",
              "  color: #000000;\n",
              "}\n",
              "#T_3b253_row0_col3 {\n",
              "  background-color: #c13639;\n",
              "  color: #f1f1f1;\n",
              "}\n",
              "#T_3b253_row1_col0, #T_3b253_row3_col2, #T_3b253_row4_col3, #T_3b253_row8_col1 {\n",
              "  background-color: #67001f;\n",
              "  color: #f1f1f1;\n",
              "}\n",
              "#T_3b253_row1_col2, #T_3b253_row2_col2, #T_3b253_row9_col2 {\n",
              "  background-color: #246aae;\n",
              "  color: #f1f1f1;\n",
              "}\n",
              "#T_3b253_row1_col3, #T_3b253_row3_col3, #T_3b253_row5_col3, #T_3b253_row8_col3 {\n",
              "  background-color: #f09c7b;\n",
              "  color: #000000;\n",
              "}\n",
              "#T_3b253_row2_col0, #T_3b253_row6_col1, #T_3b253_row6_col2, #T_3b253_row9_col3 {\n",
              "  background-color: #053061;\n",
              "  color: #f1f1f1;\n",
              "}\n",
              "#T_3b253_row2_col1, #T_3b253_row5_col2, #T_3b253_row7_col2 {\n",
              "  background-color: #529dc8;\n",
              "  color: #f1f1f1;\n",
              "}\n",
              "#T_3b253_row2_col3, #T_3b253_row6_col3 {\n",
              "  background-color: #2f79b5;\n",
              "  color: #f1f1f1;\n",
              "}\n",
              "#T_3b253_row3_col0 {\n",
              "  background-color: #ab162a;\n",
              "  color: #f1f1f1;\n",
              "}\n",
              "#T_3b253_row3_col1, #T_3b253_row4_col2 {\n",
              "  background-color: #dc6e57;\n",
              "  color: #f1f1f1;\n",
              "}\n",
              "#T_3b253_row4_col1 {\n",
              "  background-color: #b61f2e;\n",
              "  color: #f1f1f1;\n",
              "}\n",
              "#T_3b253_row5_col1, #T_3b253_row7_col1, #T_3b253_row9_col1 {\n",
              "  background-color: #fae7dc;\n",
              "  color: #000000;\n",
              "}\n",
              "#T_3b253_row6_col0 {\n",
              "  background-color: #e6eff4;\n",
              "  color: #000000;\n",
              "}\n",
              "#T_3b253_row7_col0 {\n",
              "  background-color: #fac8af;\n",
              "  color: #000000;\n",
              "}\n",
              "#T_3b253_row7_col3 {\n",
              "  background-color: #87beda;\n",
              "  color: #000000;\n",
              "}\n",
              "#T_3b253_row8_col0 {\n",
              "  background-color: #bbdaea;\n",
              "  color: #000000;\n",
              "}\n",
              "#T_3b253_row8_col2 {\n",
              "  background-color: #e1edf3;\n",
              "  color: #000000;\n",
              "}\n",
              "#T_3b253_row9_col0 {\n",
              "  background-color: #1e61a5;\n",
              "  color: #f1f1f1;\n",
              "}\n",
              "</style>\n",
              "<table id=\"T_3b253\" class=\"dataframe\">\n",
              "  <thead>\n",
              "    <tr>\n",
              "      <th class=\"blank level0\" >&nbsp;</th>\n",
              "      <th id=\"T_3b253_level0_col0\" class=\"col_heading level0 col0\" >SepalLengthCm</th>\n",
              "      <th id=\"T_3b253_level0_col1\" class=\"col_heading level0 col1\" >SepalWidthCm</th>\n",
              "      <th id=\"T_3b253_level0_col2\" class=\"col_heading level0 col2\" >PetalLengthCm</th>\n",
              "      <th id=\"T_3b253_level0_col3\" class=\"col_heading level0 col3\" >PetalWidthCm</th>\n",
              "      <th id=\"T_3b253_level0_col4\" class=\"col_heading level0 col4\" >Species</th>\n",
              "    </tr>\n",
              "  </thead>\n",
              "  <tbody>\n",
              "    <tr>\n",
              "      <th id=\"T_3b253_level0_row0\" class=\"row_heading level0 row0\" >140</th>\n",
              "      <td id=\"T_3b253_row0_col0\" class=\"data row0 col0\" >6.700000</td>\n",
              "      <td id=\"T_3b253_row0_col1\" class=\"data row0 col1\" >3.100000</td>\n",
              "      <td id=\"T_3b253_row0_col2\" class=\"data row0 col2\" >5.600000</td>\n",
              "      <td id=\"T_3b253_row0_col3\" class=\"data row0 col3\" >2.400000</td>\n",
              "      <td id=\"T_3b253_row0_col4\" class=\"data row0 col4\" >Iris-virginica</td>\n",
              "    </tr>\n",
              "    <tr>\n",
              "      <th id=\"T_3b253_level0_row1\" class=\"row_heading level0 row1\" >141</th>\n",
              "      <td id=\"T_3b253_row1_col0\" class=\"data row1 col0\" >6.900000</td>\n",
              "      <td id=\"T_3b253_row1_col1\" class=\"data row1 col1\" >3.100000</td>\n",
              "      <td id=\"T_3b253_row1_col2\" class=\"data row1 col2\" >5.100000</td>\n",
              "      <td id=\"T_3b253_row1_col3\" class=\"data row1 col3\" >2.300000</td>\n",
              "      <td id=\"T_3b253_row1_col4\" class=\"data row1 col4\" >Iris-virginica</td>\n",
              "    </tr>\n",
              "    <tr>\n",
              "      <th id=\"T_3b253_level0_row2\" class=\"row_heading level0 row2\" >142</th>\n",
              "      <td id=\"T_3b253_row2_col0\" class=\"data row2 col0\" >5.800000</td>\n",
              "      <td id=\"T_3b253_row2_col1\" class=\"data row2 col1\" >2.700000</td>\n",
              "      <td id=\"T_3b253_row2_col2\" class=\"data row2 col2\" >5.100000</td>\n",
              "      <td id=\"T_3b253_row2_col3\" class=\"data row2 col3\" >1.900000</td>\n",
              "      <td id=\"T_3b253_row2_col4\" class=\"data row2 col4\" >Iris-virginica</td>\n",
              "    </tr>\n",
              "    <tr>\n",
              "      <th id=\"T_3b253_level0_row3\" class=\"row_heading level0 row3\" >143</th>\n",
              "      <td id=\"T_3b253_row3_col0\" class=\"data row3 col0\" >6.800000</td>\n",
              "      <td id=\"T_3b253_row3_col1\" class=\"data row3 col1\" >3.200000</td>\n",
              "      <td id=\"T_3b253_row3_col2\" class=\"data row3 col2\" >5.900000</td>\n",
              "      <td id=\"T_3b253_row3_col3\" class=\"data row3 col3\" >2.300000</td>\n",
              "      <td id=\"T_3b253_row3_col4\" class=\"data row3 col4\" >Iris-virginica</td>\n",
              "    </tr>\n",
              "    <tr>\n",
              "      <th id=\"T_3b253_level0_row4\" class=\"row_heading level0 row4\" >144</th>\n",
              "      <td id=\"T_3b253_row4_col0\" class=\"data row4 col0\" >6.700000</td>\n",
              "      <td id=\"T_3b253_row4_col1\" class=\"data row4 col1\" >3.300000</td>\n",
              "      <td id=\"T_3b253_row4_col2\" class=\"data row4 col2\" >5.700000</td>\n",
              "      <td id=\"T_3b253_row4_col3\" class=\"data row4 col3\" >2.500000</td>\n",
              "      <td id=\"T_3b253_row4_col4\" class=\"data row4 col4\" >Iris-virginica</td>\n",
              "    </tr>\n",
              "    <tr>\n",
              "      <th id=\"T_3b253_level0_row5\" class=\"row_heading level0 row5\" >145</th>\n",
              "      <td id=\"T_3b253_row5_col0\" class=\"data row5 col0\" >6.700000</td>\n",
              "      <td id=\"T_3b253_row5_col1\" class=\"data row5 col1\" >3.000000</td>\n",
              "      <td id=\"T_3b253_row5_col2\" class=\"data row5 col2\" >5.200000</td>\n",
              "      <td id=\"T_3b253_row5_col3\" class=\"data row5 col3\" >2.300000</td>\n",
              "      <td id=\"T_3b253_row5_col4\" class=\"data row5 col4\" >Iris-virginica</td>\n",
              "    </tr>\n",
              "    <tr>\n",
              "      <th id=\"T_3b253_level0_row6\" class=\"row_heading level0 row6\" >146</th>\n",
              "      <td id=\"T_3b253_row6_col0\" class=\"data row6 col0\" >6.300000</td>\n",
              "      <td id=\"T_3b253_row6_col1\" class=\"data row6 col1\" >2.500000</td>\n",
              "      <td id=\"T_3b253_row6_col2\" class=\"data row6 col2\" >5.000000</td>\n",
              "      <td id=\"T_3b253_row6_col3\" class=\"data row6 col3\" >1.900000</td>\n",
              "      <td id=\"T_3b253_row6_col4\" class=\"data row6 col4\" >Iris-virginica</td>\n",
              "    </tr>\n",
              "    <tr>\n",
              "      <th id=\"T_3b253_level0_row7\" class=\"row_heading level0 row7\" >147</th>\n",
              "      <td id=\"T_3b253_row7_col0\" class=\"data row7 col0\" >6.500000</td>\n",
              "      <td id=\"T_3b253_row7_col1\" class=\"data row7 col1\" >3.000000</td>\n",
              "      <td id=\"T_3b253_row7_col2\" class=\"data row7 col2\" >5.200000</td>\n",
              "      <td id=\"T_3b253_row7_col3\" class=\"data row7 col3\" >2.000000</td>\n",
              "      <td id=\"T_3b253_row7_col4\" class=\"data row7 col4\" >Iris-virginica</td>\n",
              "    </tr>\n",
              "    <tr>\n",
              "      <th id=\"T_3b253_level0_row8\" class=\"row_heading level0 row8\" >148</th>\n",
              "      <td id=\"T_3b253_row8_col0\" class=\"data row8 col0\" >6.200000</td>\n",
              "      <td id=\"T_3b253_row8_col1\" class=\"data row8 col1\" >3.400000</td>\n",
              "      <td id=\"T_3b253_row8_col2\" class=\"data row8 col2\" >5.400000</td>\n",
              "      <td id=\"T_3b253_row8_col3\" class=\"data row8 col3\" >2.300000</td>\n",
              "      <td id=\"T_3b253_row8_col4\" class=\"data row8 col4\" >Iris-virginica</td>\n",
              "    </tr>\n",
              "    <tr>\n",
              "      <th id=\"T_3b253_level0_row9\" class=\"row_heading level0 row9\" >149</th>\n",
              "      <td id=\"T_3b253_row9_col0\" class=\"data row9 col0\" >5.900000</td>\n",
              "      <td id=\"T_3b253_row9_col1\" class=\"data row9 col1\" >3.000000</td>\n",
              "      <td id=\"T_3b253_row9_col2\" class=\"data row9 col2\" >5.100000</td>\n",
              "      <td id=\"T_3b253_row9_col3\" class=\"data row9 col3\" >1.800000</td>\n",
              "      <td id=\"T_3b253_row9_col4\" class=\"data row9 col4\" >Iris-virginica</td>\n",
              "    </tr>\n",
              "  </tbody>\n",
              "</table>\n"
            ]
          },
          "metadata": {},
          "execution_count": 19
        }
      ]
    },
    {
      "cell_type": "code",
      "source": [
        "iris.info()"
      ],
      "metadata": {
        "colab": {
          "base_uri": "https://localhost:8080/"
        },
        "id": "ViuE4gFGxNWn",
        "outputId": "84bd7b1f-6361-4bbe-f139-a0a2974f6c2d"
      },
      "execution_count": 20,
      "outputs": [
        {
          "output_type": "stream",
          "name": "stdout",
          "text": [
            "<class 'pandas.core.frame.DataFrame'>\n",
            "RangeIndex: 150 entries, 0 to 149\n",
            "Data columns (total 5 columns):\n",
            " #   Column         Non-Null Count  Dtype  \n",
            "---  ------         --------------  -----  \n",
            " 0   SepalLengthCm  150 non-null    float64\n",
            " 1   SepalWidthCm   150 non-null    float64\n",
            " 2   PetalLengthCm  150 non-null    float64\n",
            " 3   PetalWidthCm   150 non-null    float64\n",
            " 4   Species        150 non-null    object \n",
            "dtypes: float64(4), object(1)\n",
            "memory usage: 6.0+ KB\n"
          ]
        }
      ]
    },
    {
      "cell_type": "code",
      "source": [
        "plt.rcParams['figure.figsize'] = [7, 5]\n",
        "iris.plot()\n",
        "plt.show()"
      ],
      "metadata": {
        "colab": {
          "base_uri": "https://localhost:8080/",
          "height": 445
        },
        "id": "gCrIEWXcxTg1",
        "outputId": "be610aff-78ab-49d5-983d-e271a3b48b05"
      },
      "execution_count": 22,
      "outputs": [
        {
          "output_type": "display_data",
          "data": {
            "text/plain": [
              "<Figure size 700x500 with 1 Axes>"
            ],
            "image/png": "[encoded data removed]"
          },
          "metadata": {}
        }
      ]
    },
    {
      "cell_type": "code",
      "source": [
        "iris.describe()"
      ],
      "metadata": {
        "colab": {
          "base_uri": "https://localhost:8080/",
          "height": 300
        },
        "id": "xXVDKmFcxXws",
        "outputId": "cc76bb78-c082-4b7d-b7cd-35a6dc717192"
      },
      "execution_count": 23,
      "outputs": [
        {
          "output_type": "execute_result",
          "data": {
            "text/plain": [
              "       SepalLengthCm  SepalWidthCm  PetalLengthCm  PetalWidthCm\n",
              "count     150.000000    150.000000     150.000000    150.000000\n",
              "mean        5.843333      3.054000       3.758667      1.198667\n",
              "std         0.828066      0.433594       1.764420      0.763161\n",
              "min         4.300000      2.000000       1.000000      0.100000\n",
              "25%         5.100000      2.800000       1.600000      0.300000\n",
              "50%         5.800000      3.000000       4.350000      1.300000\n",
              "75%         6.400000      3.300000       5.100000      1.800000\n",
              "max         7.900000      4.400000       6.900000      2.500000"
            ],
            "text/html": [
              "\n",
              "  <div id=\"df-75f14488-8950-466f-85fd-9f5d38254d66\" class=\"colab-df-container\">\n",
              "    <div>\n",
              "<style scoped>\n",
              "    .dataframe tbody tr th:only-of-type {\n",
              "        vertical-align: middle;\n",
              "    }\n",
              "\n",
              "    .dataframe tbody tr th {\n",
              "        vertical-align: top;\n",
              "    }\n",
              "\n",
              "    .dataframe thead th {\n",
              "        text-align: right;\n",
              "    }\n",
              "</style>\n",
              "<table border=\"1\" class=\"dataframe\">\n",
              "  <thead>\n",
              "    <tr style=\"text-align: right;\">\n",
              "      <th></th>\n",
              "      <th>SepalLengthCm</th>\n",
              "      <th>SepalWidthCm</th>\n",
              "      <th>PetalLengthCm</th>\n",
              "      <th>PetalWidthCm</th>\n",
              "    </tr>\n",
              "  </thead>\n",
              "  <tbody>\n",
              "    <tr>\n",
              "      <th>count</th>\n",
              "      <td>150.000000</td>\n",
              "      <td>150.000000</td>\n",
              "      <td>150.000000</td>\n",
              "      <td>150.000000</td>\n",
              "    </tr>\n",
              "    <tr>\n",
              "      <th>mean</th>\n",
              "      <td>5.843333</td>\n",
              "      <td>3.054000</td>\n",
              "      <td>3.758667</td>\n",
              "      <td>1.198667</td>\n",
              "    </tr>\n",
              "    <tr>\n",
              "      <th>std</th>\n",
              "      <td>0.828066</td>\n",
              "      <td>0.433594</td>\n",
              "      <td>1.764420</td>\n",
              "      <td>0.763161</td>\n",
              "    </tr>\n",
              "    <tr>\n",
              "      <th>min</th>\n",
              "      <td>4.300000</td>\n",
              "      <td>2.000000</td>\n",
              "      <td>1.000000</td>\n",
              "      <td>0.100000</td>\n",
              "    </tr>\n",
              "    <tr>\n",
              "      <th>25%</th>\n",
              "      <td>5.100000</td>\n",
              "      <td>2.800000</td>\n",
              "      <td>1.600000</td>\n",
              "      <td>0.300000</td>\n",
              "    </tr>\n",
              "    <tr>\n",
              "      <th>50%</th>\n",
              "      <td>5.800000</td>\n",
              "      <td>3.000000</td>\n",
              "      <td>4.350000</td>\n",
              "      <td>1.300000</td>\n",
              "    </tr>\n",
              "    <tr>\n",
              "      <th>75%</th>\n",
              "      <td>6.400000</td>\n",
              "      <td>3.300000</td>\n",
              "      <td>5.100000</td>\n",
              "      <td>1.800000</td>\n",
              "    </tr>\n",
              "    <tr>\n",
              "      <th>max</th>\n",
              "      <td>7.900000</td>\n",
              "      <td>4.400000</td>\n",
              "      <td>6.900000</td>\n",
              "      <td>2.500000</td>\n",
              "    </tr>\n",
              "  </tbody>\n",
              "</table>\n",
              "</div>\n",
              "    <div class=\"colab-df-buttons\">\n",
              "\n",
              "  <div class=\"colab-df-container\">\n",
              "    <button class=\"colab-df-convert\" onclick=\"convertToInteractive('df-75f14488-8950-466f-85fd-9f5d38254d66')\"\n",
              "            title=\"Convert this dataframe to an interactive table.\"\n",
              "            style=\"display:none;\">\n",
              "\n",
              "  <svg xmlns=\"http://www.w3.org/2000/svg\" height=\"24px\" viewBox=\"0 -960 960 960\">\n",
              "    <path d=\"M120-120v-720h720v720H120Zm60-500h600v-160H180v160Zm220 220h160v-160H400v160Zm0 220h160v-160H400v160ZM180-400h160v-160H180v160Zm440 0h160v-160H620v160ZM180-180h160v-160H180v160Zm440 0h160v-160H620v160Z\"/>\n",
              "  </svg>\n",
              "    </button>\n",
              "\n",
              "  <style>\n",
              "    .colab-df-container {\n",
              "      display:flex;\n",
              "      gap: 12px;\n",
              "    }\n",
              "\n",
              "    .colab-df-convert {\n",
              "      background-color: #E8F0FE;\n",
              "      border: none;\n",
              "      border-radius: 50%;\n",
              "      cursor: pointer;\n",
              "      display: none;\n",
              "      fill: #1967D2;\n",
              "      height: 32px;\n",
              "      padding: 0 0 0 0;\n",
              "      width: 32px;\n",
              "    }\n",
              "\n",
              "    .colab-df-convert:hover {\n",
              "      background-color: #E2EBFA;\n",
              "      box-shadow: 0px 1px 2px rgba(60, 64, 67, 0.3), 0px 1px 3px 1px rgba(60, 64, 67, 0.15);\n",
              "      fill: #174EA6;\n",
              "    }\n",
              "\n",
              "    .colab-df-buttons div {\n",
              "      margin-bottom: 4px;\n",
              "    }\n",
              "\n",
              "    [theme=dark] .colab-df-convert {\n",
              "      background-color: #3B4455;\n",
              "      fill: #D2E3FC;\n",
              "    }\n",
              "\n",
              "    [theme=dark] .colab-df-convert:hover {\n",
              "      background-color: #434B5C;\n",
              "      box-shadow: 0px 1px 3px 1px rgba(0, 0, 0, 0.15);\n",
              "      filter: drop-shadow(0px 1px 2px rgba(0, 0, 0, 0.3));\n",
              "      fill: #FFFFFF;\n",
              "    }\n",
              "  </style>\n",
              "\n",
              "    <script>\n",
              "      const buttonEl =\n",
              "        document.querySelector('#df-75f14488-8950-466f-85fd-9f5d38254d66 button.colab-df-convert');\n",
              "      buttonEl.style.display =\n",
              "        google.colab.kernel.accessAllowed ? 'block' : 'none';\n",
              "\n",
              "      async function convertToInteractive(key) {\n",
              "        const element = document.querySelector('#df-75f14488-8950-466f-85fd-9f5d38254d66');\n",
              "        const dataTable =\n",
              "          await google.colab.kernel.invokeFunction('convertToInteractive',\n",
              "                                                    [key], {});\n",
              "        if (!dataTable) return;\n",
              "\n",
              "        const docLinkHtml = 'Like what you see? Visit the ' +\n",
              "          '<a target=\"_blank\" href=https://colab.research.google.com/notebooks/data_table.ipynb>data table notebook</a>'\n",
              "          + ' to learn more about interactive tables.';\n",
              "        element.innerHTML = '';\n",
              "        dataTable['output_type'] = 'display_data';\n",
              "        await google.colab.output.renderOutput(dataTable, element);\n",
              "        const docLink = document.createElement('div');\n",
              "        docLink.innerHTML = docLinkHtml;\n",
              "        element.appendChild(docLink);\n",
              "      }\n",
              "    </script>\n",
              "  </div>\n",
              "\n",
              "\n",
              "<div id=\"df-00e16fe3-7aff-41dd-8882-676e146476ad\">\n",
              "  <button class=\"colab-df-quickchart\" onclick=\"quickchart('df-00e16fe3-7aff-41dd-8882-676e146476ad')\"\n",
              "            title=\"Suggest charts\"\n",
              "            style=\"display:none;\">\n",
              "\n",
              "<svg xmlns=\"http://www.w3.org/2000/svg\" height=\"24px\"viewBox=\"0 0 24 24\"\n",
              "     width=\"24px\">\n",
              "    <g>\n",
              "        <path d=\"M19 3H5c-1.1 0-2 .9-2 2v14c0 1.1.9 2 2 2h14c1.1 0 2-.9 2-2V5c0-1.1-.9-2-2-2zM9 17H7v-7h2v7zm4 0h-2V7h2v10zm4 0h-2v-4h2v4z\"/>\n",
              "    </g>\n",
              "</svg>\n",
              "  </button>\n",
              "\n",
              "<style>\n",
              "  .colab-df-quickchart {\n",
              "      --bg-color: #E8F0FE;\n",
              "      --fill-color: #1967D2;\n",
              "      --hover-bg-color: #E2EBFA;\n",
              "      --hover-fill-color: #174EA6;\n",
              "      --disabled-fill-color: #AAA;\n",
              "      --disabled-bg-color: #DDD;\n",
              "  }\n",
              "\n",
              "  [theme=dark] .colab-df-quickchart {\n",
              "      --bg-color: #3B4455;\n",
              "      --fill-color: #D2E3FC;\n",
              "      --hover-bg-color: #434B5C;\n",
              "      --hover-fill-color: #FFFFFF;\n",
              "      --disabled-bg-color: #3B4455;\n",
              "      --disabled-fill-color: #666;\n",
              "  }\n",
              "\n",
              "  .colab-df-quickchart {\n",
              "    background-color: var(--bg-color);\n",
              "    border: none;\n",
              "    border-radius: 50%;\n",
              "    cursor: pointer;\n",
              "    display: none;\n",
              "    fill: var(--fill-color);\n",
              "    height: 32px;\n",
              "    padding: 0;\n",
              "    width: 32px;\n",
              "  }\n",
              "\n",
              "  .colab-df-quickchart:hover {\n",
              "    background-color: var(--hover-bg-color);\n",
              "    box-shadow: 0 1px 2px rgba(60, 64, 67, 0.3), 0 1px 3px 1px rgba(60, 64, 67, 0.15);\n",
              "    fill: var(--button-hover-fill-color);\n",
              "  }\n",
              "\n",
              "  .colab-df-quickchart-complete:disabled,\n",
              "  .colab-df-quickchart-complete:disabled:hover {\n",
              "    background-color: var(--disabled-bg-color);\n",
              "    fill: var(--disabled-fill-color);\n",
              "    box-shadow: none;\n",
              "  }\n",
              "\n",
              "  .colab-df-spinner {\n",
              "    border: 2px solid var(--fill-color);\n",
              "    border-color: transparent;\n",
              "    border-bottom-color: var(--fill-color);\n",
              "    animation:\n",
              "      spin 1s steps(1) infinite;\n",
              "  }\n",
              "\n",
              "  @keyframes spin {\n",
              "    0% {\n",
              "      border-color: transparent;\n",
              "      border-bottom-color: var(--fill-color);\n",
              "      border-left-color: var(--fill-color);\n",
              "    }\n",
              "    20% {\n",
              "      border-color: transparent;\n",
              "      border-left-color: var(--fill-color);\n",
              "      border-top-color: var(--fill-color);\n",
              "    }\n",
              "    30% {\n",
              "      border-color: transparent;\n",
              "      border-left-color: var(--fill-color);\n",
              "      border-top-color: var(--fill-color);\n",
              "      border-right-color: var(--fill-color);\n",
              "    }\n",
              "    40% {\n",
              "      border-color: transparent;\n",
              "      border-right-color: var(--fill-color);\n",
              "      border-top-color: var(--fill-color);\n",
              "    }\n",
              "    60% {\n",
              "      border-color: transparent;\n",
              "      border-right-color: var(--fill-color);\n",
              "    }\n",
              "    80% {\n",
              "      border-color: transparent;\n",
              "      border-right-color: var(--fill-color);\n",
              "      border-bottom-color: var(--fill-color);\n",
              "    }\n",
              "    90% {\n",
              "      border-color: transparent;\n",
              "      border-bottom-color: var(--fill-color);\n",
              "    }\n",
              "  }\n",
              "</style>\n",
              "\n",
              "  <script>\n",
              "    async function quickchart(key) {\n",
              "      const quickchartButtonEl =\n",
              "        document.querySelector('#' + key + ' button');\n",
              "      quickchartButtonEl.disabled = true;  // To prevent multiple clicks.\n",
              "      quickchartButtonEl.classList.add('colab-df-spinner');\n",
              "      try {\n",
              "        const charts = await google.colab.kernel.invokeFunction(\n",
              "            'suggestCharts', [key], {});\n",
              "      } catch (error) {\n",
              "        console.error('Error during call to suggestCharts:', error);\n",
              "      }\n",
              "      quickchartButtonEl.classList.remove('colab-df-spinner');\n",
              "      quickchartButtonEl.classList.add('colab-df-quickchart-complete');\n",
              "    }\n",
              "    (() => {\n",
              "      let quickchartButtonEl =\n",
              "        document.querySelector('#df-00e16fe3-7aff-41dd-8882-676e146476ad button');\n",
              "      quickchartButtonEl.style.display =\n",
              "        google.colab.kernel.accessAllowed ? 'block' : 'none';\n",
              "    })();\n",
              "  </script>\n",
              "</div>\n",
              "\n",
              "    </div>\n",
              "  </div>\n"
            ]
          },
          "metadata": {},
          "execution_count": 23
        }
      ]
    },
    {
      "cell_type": "code",
      "source": [
        "iris.describe().style.background_gradient(cmap=\"Blues\")"
      ],
      "metadata": {
        "colab": {
          "base_uri": "https://localhost:8080/",
          "height": 300
        },
        "id": "3hIhnOrjxemB",
        "outputId": "159bde73-9a16-4b1e-a237-bb7b48e2ca39"
      },
      "execution_count": 25,
      "outputs": [
        {
          "output_type": "execute_result",
          "data": {
            "text/plain": [
              "<pandas.io.formats.style.Styler at 0x7b1fb34a1fc0>"
            ],
            "text/html": [
              "<style type=\"text/css\">\n",
              "#T_a1c21_row0_col0, #T_a1c21_row0_col1, #T_a1c21_row0_col2, #T_a1c21_row0_col3 {\n",
              "  background-color: #08306b;\n",
              "  color: #f1f1f1;\n",
              "}\n",
              "#T_a1c21_row1_col0, #T_a1c21_row5_col0 {\n",
              "  background-color: #f1f7fd;\n",
              "  color: #000000;\n",
              "}\n",
              "#T_a1c21_row1_col1, #T_a1c21_row1_col2, #T_a1c21_row4_col1, #T_a1c21_row5_col1, #T_a1c21_row6_col1, #T_a1c21_row7_col3 {\n",
              "  background-color: #f4f9fe;\n",
              "  color: #000000;\n",
              "}\n",
              "#T_a1c21_row1_col3, #T_a1c21_row2_col2, #T_a1c21_row2_col3, #T_a1c21_row4_col2 {\n",
              "  background-color: #f6faff;\n",
              "  color: #000000;\n",
              "}\n",
              "#T_a1c21_row2_col0, #T_a1c21_row2_col1, #T_a1c21_row3_col2, #T_a1c21_row3_col3, #T_a1c21_row4_col3 {\n",
              "  background-color: #f7fbff;\n",
              "  color: #000000;\n",
              "}\n",
              "#T_a1c21_row3_col0, #T_a1c21_row5_col2 {\n",
              "  background-color: #f3f8fe;\n",
              "  color: #000000;\n",
              "}\n",
              "#T_a1c21_row3_col1, #T_a1c21_row5_col3, #T_a1c21_row6_col3 {\n",
              "  background-color: #f5fafe;\n",
              "  color: #000000;\n",
              "}\n",
              "#T_a1c21_row4_col0, #T_a1c21_row6_col2 {\n",
              "  background-color: #f2f7fd;\n",
              "  color: #000000;\n",
              "}\n",
              "#T_a1c21_row6_col0 {\n",
              "  background-color: #f0f6fd;\n",
              "  color: #000000;\n",
              "}\n",
              "#T_a1c21_row7_col0 {\n",
              "  background-color: #eef5fc;\n",
              "  color: #000000;\n",
              "}\n",
              "#T_a1c21_row7_col1 {\n",
              "  background-color: #f2f8fd;\n",
              "  color: #000000;\n",
              "}\n",
              "#T_a1c21_row7_col2 {\n",
              "  background-color: #eff6fc;\n",
              "  color: #000000;\n",
              "}\n",
              "</style>\n",
              "<table id=\"T_a1c21\" class=\"dataframe\">\n",
              "  <thead>\n",
              "    <tr>\n",
              "      <th class=\"blank level0\" >&nbsp;</th>\n",
              "      <th id=\"T_a1c21_level0_col0\" class=\"col_heading level0 col0\" >SepalLengthCm</th>\n",
              "      <th id=\"T_a1c21_level0_col1\" class=\"col_heading level0 col1\" >SepalWidthCm</th>\n",
              "      <th id=\"T_a1c21_level0_col2\" class=\"col_heading level0 col2\" >PetalLengthCm</th>\n",
              "      <th id=\"T_a1c21_level0_col3\" class=\"col_heading level0 col3\" >PetalWidthCm</th>\n",
              "    </tr>\n",
              "  </thead>\n",
              "  <tbody>\n",
              "    <tr>\n",
              "      <th id=\"T_a1c21_level0_row0\" class=\"row_heading level0 row0\" >count</th>\n",
              "      <td id=\"T_a1c21_row0_col0\" class=\"data row0 col0\" >150.000000</td>\n",
              "      <td id=\"T_a1c21_row0_col1\" class=\"data row0 col1\" >150.000000</td>\n",
              "      <td id=\"T_a1c21_row0_col2\" class=\"data row0 col2\" >150.000000</td>\n",
              "      <td id=\"T_a1c21_row0_col3\" class=\"data row0 col3\" >150.000000</td>\n",
              "    </tr>\n",
              "    <tr>\n",
              "      <th id=\"T_a1c21_level0_row1\" class=\"row_heading level0 row1\" >mean</th>\n",
              "      <td id=\"T_a1c21_row1_col0\" class=\"data row1 col0\" >5.843333</td>\n",
              "      <td id=\"T_a1c21_row1_col1\" class=\"data row1 col1\" >3.054000</td>\n",
              "      <td id=\"T_a1c21_row1_col2\" class=\"data row1 col2\" >3.758667</td>\n",
              "      <td id=\"T_a1c21_row1_col3\" class=\"data row1 col3\" >1.198667</td>\n",
              "    </tr>\n",
              "    <tr>\n",
              "      <th id=\"T_a1c21_level0_row2\" class=\"row_heading level0 row2\" >std</th>\n",
              "      <td id=\"T_a1c21_row2_col0\" class=\"data row2 col0\" >0.828066</td>\n",
              "      <td id=\"T_a1c21_row2_col1\" class=\"data row2 col1\" >0.433594</td>\n",
              "      <td id=\"T_a1c21_row2_col2\" class=\"data row2 col2\" >1.764420</td>\n",
              "      <td id=\"T_a1c21_row2_col3\" class=\"data row2 col3\" >0.763161</td>\n",
              "    </tr>\n",
              "    <tr>\n",
              "      <th id=\"T_a1c21_level0_row3\" class=\"row_heading level0 row3\" >min</th>\n",
              "      <td id=\"T_a1c21_row3_col0\" class=\"data row3 col0\" >4.300000</td>\n",
              "      <td id=\"T_a1c21_row3_col1\" class=\"data row3 col1\" >2.000000</td>\n",
              "      <td id=\"T_a1c21_row3_col2\" class=\"data row3 col2\" >1.000000</td>\n",
              "      <td id=\"T_a1c21_row3_col3\" class=\"data row3 col3\" >0.100000</td>\n",
              "    </tr>\n",
              "    <tr>\n",
              "      <th id=\"T_a1c21_level0_row4\" class=\"row_heading level0 row4\" >25%</th>\n",
              "      <td id=\"T_a1c21_row4_col0\" class=\"data row4 col0\" >5.100000</td>\n",
              "      <td id=\"T_a1c21_row4_col1\" class=\"data row4 col1\" >2.800000</td>\n",
              "      <td id=\"T_a1c21_row4_col2\" class=\"data row4 col2\" >1.600000</td>\n",
              "      <td id=\"T_a1c21_row4_col3\" class=\"data row4 col3\" >0.300000</td>\n",
              "    </tr>\n",
              "    <tr>\n",
              "      <th id=\"T_a1c21_level0_row5\" class=\"row_heading level0 row5\" >50%</th>\n",
              "      <td id=\"T_a1c21_row5_col0\" class=\"data row5 col0\" >5.800000</td>\n",
              "      <td id=\"T_a1c21_row5_col1\" class=\"data row5 col1\" >3.000000</td>\n",
              "      <td id=\"T_a1c21_row5_col2\" class=\"data row5 col2\" >4.350000</td>\n",
              "      <td id=\"T_a1c21_row5_col3\" class=\"data row5 col3\" >1.300000</td>\n",
              "    </tr>\n",
              "    <tr>\n",
              "      <th id=\"T_a1c21_level0_row6\" class=\"row_heading level0 row6\" >75%</th>\n",
              "      <td id=\"T_a1c21_row6_col0\" class=\"data row6 col0\" >6.400000</td>\n",
              "      <td id=\"T_a1c21_row6_col1\" class=\"data row6 col1\" >3.300000</td>\n",
              "      <td id=\"T_a1c21_row6_col2\" class=\"data row6 col2\" >5.100000</td>\n",
              "      <td id=\"T_a1c21_row6_col3\" class=\"data row6 col3\" >1.800000</td>\n",
              "    </tr>\n",
              "    <tr>\n",
              "      <th id=\"T_a1c21_level0_row7\" class=\"row_heading level0 row7\" >max</th>\n",
              "      <td id=\"T_a1c21_row7_col0\" class=\"data row7 col0\" >7.900000</td>\n",
              "      <td id=\"T_a1c21_row7_col1\" class=\"data row7 col1\" >4.400000</td>\n",
              "      <td id=\"T_a1c21_row7_col2\" class=\"data row7 col2\" >6.900000</td>\n",
              "      <td id=\"T_a1c21_row7_col3\" class=\"data row7 col3\" >2.500000</td>\n",
              "    </tr>\n",
              "  </tbody>\n",
              "</table>\n"
            ]
          },
          "metadata": {},
          "execution_count": 25
        }
      ]
    },
    {
      "cell_type": "markdown",
      "source": [
        "#**DATA SPLIT**"
      ],
      "metadata": {
        "id": "ZtovcNkkxkOP"
      }
    },
    {
      "cell_type": "code",
      "source": [
        "x = iris.iloc[:, :-1]\n",
        "y = iris.iloc[:, -1]"
      ],
      "metadata": {
        "id": "iYxrhfxjxf4m"
      },
      "execution_count": 26,
      "outputs": []
    },
    {
      "cell_type": "markdown",
      "source": [
        "#**SOLVING MISSING VALUES**"
      ],
      "metadata": {
        "id": "aLEMOxIbxzvK"
      }
    },
    {
      "cell_type": "code",
      "source": [
        "from sklearn.impute import SimpleImputer\n",
        "imputer = SimpleImputer(strategy=\"mean\")\n",
        "imputer.fit(x)\n",
        "x = imputer.transform(x)"
      ],
      "metadata": {
        "id": "02RtJpigyKn3"
      },
      "execution_count": 29,
      "outputs": []
    },
    {
      "cell_type": "code",
      "source": [
        "SimpleImputer_model = SimpleImputer(missing_values = np.nan, strategy = 'mean')\n",
        "x = SimpleImputer_model.fit_transform(x)"
      ],
      "metadata": {
        "id": "7AQNn5NlxtTu"
      },
      "execution_count": 30,
      "outputs": []
    },
    {
      "cell_type": "code",
      "source": [
        "plt.figure(figsize=(7, 5))\n",
        "plt.scatter(data=iris, x = \"SepalLengthCm\", y = \"SepalWidthCm\", marker=\"*\", alpha=0.5)\n",
        "plt.title(' relation between SepalLengthCm and SepalWidthCm', fontsize=12, color = \"red\")\n",
        "plt.xlabel(\"SepalLengthCm\", fontsize = 10, color = \"green\")\n",
        "plt.ylabel(\"SepalWidthCm\", fontsize = 10, color = \"blue\")\n",
        "plt.legend()\n",
        "plt.colorbar()\n",
        "plt.show();"
      ],
      "metadata": {
        "colab": {
          "base_uri": "https://localhost:8080/",
          "height": 487
        },
        "id": "w6GUqRtcyFKB",
        "outputId": "57c53500-aa20-421c-f0ee-303394e6ab89"
      },
      "execution_count": 32,
      "outputs": [
        {
          "output_type": "display_data",
          "data": {
            "text/plain": [
              "<Figure size 700x500 with 2 Axes>"
            ],
            "image/png": "[encoded data removed]"
          },
          "metadata": {}
        }
      ]
    },
    {
      "cell_type": "code",
      "source": [
        "plt.figure(figsize=(7, 5))\n",
        "plt.scatter(data=iris, x = \"PetalLengthCm\", y = \"PetalWidthCm\", marker=\"*\", alpha=0.5)\n",
        "plt.title(' relation between PetalLengthCm and PetalWidthCm', fontsize=12, color = \"red\")\n",
        "plt.xlabel(\"SepalLengthCm\", fontsize = 10, color = \"green\")\n",
        "plt.ylabel(\"SepalWidthCm\", fontsize = 10, color = \"blue\")\n",
        "plt.legend()\n",
        "plt.colorbar()\n",
        "plt.show()"
      ],
      "metadata": {
        "colab": {
          "base_uri": "https://localhost:8080/",
          "height": 487
        },
        "id": "Hh5d1oaSyWJf",
        "outputId": "089723e3-8259-4989-e0cd-699b2badfe8d"
      },
      "execution_count": 33,
      "outputs": [
        {
          "output_type": "display_data",
          "data": {
            "text/plain": [
              "<Figure size 700x500 with 2 Axes>"
            ],
            "image/png": "[encoded data removed]"
          },
          "metadata": {}
        }
      ]
    },
    {
      "cell_type": "code",
      "source": [
        "y"
      ],
      "metadata": {
        "colab": {
          "base_uri": "https://localhost:8080/"
        },
        "id": "oS1bk4Xcyd3_",
        "outputId": "1cd89d04-7920-4aba-ea37-ba9975631c76"
      },
      "execution_count": 34,
      "outputs": [
        {
          "output_type": "execute_result",
          "data": {
            "text/plain": [
              "0         Iris-setosa\n",
              "1         Iris-setosa\n",
              "2         Iris-setosa\n",
              "3         Iris-setosa\n",
              "4         Iris-setosa\n",
              "            ...      \n",
              "145    Iris-virginica\n",
              "146    Iris-virginica\n",
              "147    Iris-virginica\n",
              "148    Iris-virginica\n",
              "149    Iris-virginica\n",
              "Name: Species, Length: 150, dtype: object"
            ]
          },
          "metadata": {},
          "execution_count": 34
        }
      ]
    },
    {
      "cell_type": "markdown",
      "source": [
        "#**Label Encoding**"
      ],
      "metadata": {
        "id": "9bVQiPKgykOC"
      }
    },
    {
      "cell_type": "code",
      "source": [
        "from sklearn.preprocessing import LabelEncoder"
      ],
      "metadata": {
        "id": "vckOSnT-ysCj"
      },
      "execution_count": 36,
      "outputs": []
    },
    {
      "cell_type": "code",
      "source": [
        "LabelEncoder_model = LabelEncoder()\n",
        "y_new = LabelEncoder_model.fit_transform(y)"
      ],
      "metadata": {
        "id": "9oJD6T9iyhbU"
      },
      "execution_count": 37,
      "outputs": []
    },
    {
      "cell_type": "code",
      "source": [
        "y_new"
      ],
      "metadata": {
        "colab": {
          "base_uri": "https://localhost:8080/"
        },
        "id": "z5EOKBkXyqVy",
        "outputId": "dacbb0b2-02ae-444d-95e0-2c0d4edad3e9"
      },
      "execution_count": 38,
      "outputs": [
        {
          "output_type": "execute_result",
          "data": {
            "text/plain": [
              "array([0, 0, 0, 0, 0, 0, 0, 0, 0, 0, 0, 0, 0, 0, 0, 0, 0, 0, 0, 0, 0, 0,\n",
              "       0, 0, 0, 0, 0, 0, 0, 0, 0, 0, 0, 0, 0, 0, 0, 0, 0, 0, 0, 0, 0, 0,\n",
              "       0, 0, 0, 0, 0, 0, 1, 1, 1, 1, 1, 1, 1, 1, 1, 1, 1, 1, 1, 1, 1, 1,\n",
              "       1, 1, 1, 1, 1, 1, 1, 1, 1, 1, 1, 1, 1, 1, 1, 1, 1, 1, 1, 1, 1, 1,\n",
              "       1, 1, 1, 1, 1, 1, 1, 1, 1, 1, 1, 1, 2, 2, 2, 2, 2, 2, 2, 2, 2, 2,\n",
              "       2, 2, 2, 2, 2, 2, 2, 2, 2, 2, 2, 2, 2, 2, 2, 2, 2, 2, 2, 2, 2, 2,\n",
              "       2, 2, 2, 2, 2, 2, 2, 2, 2, 2, 2, 2, 2, 2, 2, 2, 2, 2])"
            ]
          },
          "metadata": {},
          "execution_count": 38
        }
      ]
    },
    {
      "cell_type": "markdown",
      "source": [
        "#**Spliting The Data**"
      ],
      "metadata": {
        "id": "gOiBhNUOy3sG"
      }
    },
    {
      "cell_type": "code",
      "source": [
        "from sklearn.model_selection import train_test_split\n",
        "x_train, x_test, y_train, y_test = train_test_split(x, y_new, test_size = 0.25, random_state = 0)"
      ],
      "metadata": {
        "id": "v2pGb7ZGy-ig"
      },
      "execution_count": 40,
      "outputs": []
    },
    {
      "cell_type": "code",
      "source": [
        "x_train, x_test, y_train, y_test = train_test_split(x, y_new, test_size=0.2, random_state=120)"
      ],
      "metadata": {
        "id": "cq7EVAzQy1Xu"
      },
      "execution_count": 41,
      "outputs": []
    },
    {
      "cell_type": "code",
      "source": [
        "x_train.shape"
      ],
      "metadata": {
        "colab": {
          "base_uri": "https://localhost:8080/"
        },
        "id": "b89OSkgPy8-u",
        "outputId": "d22374bd-4937-4189-9cf6-b4c0976bd0ca"
      },
      "execution_count": 42,
      "outputs": [
        {
          "output_type": "execute_result",
          "data": {
            "text/plain": [
              "(120, 4)"
            ]
          },
          "metadata": {},
          "execution_count": 42
        }
      ]
    },
    {
      "cell_type": "code",
      "source": [
        "y_train.shape"
      ],
      "metadata": {
        "colab": {
          "base_uri": "https://localhost:8080/"
        },
        "id": "HDgLTUe1zKg-",
        "outputId": "14b4f76f-cd88-46db-97e7-98648b81d705"
      },
      "execution_count": 43,
      "outputs": [
        {
          "output_type": "execute_result",
          "data": {
            "text/plain": [
              "(120,)"
            ]
          },
          "metadata": {},
          "execution_count": 43
        }
      ]
    },
    {
      "cell_type": "code",
      "source": [
        "x_test.shape"
      ],
      "metadata": {
        "colab": {
          "base_uri": "https://localhost:8080/"
        },
        "id": "TctHAeQDzOo3",
        "outputId": "6ff927c0-4b93-4253-d07a-6e28dd9b78c4"
      },
      "execution_count": 44,
      "outputs": [
        {
          "output_type": "execute_result",
          "data": {
            "text/plain": [
              "(30, 4)"
            ]
          },
          "metadata": {},
          "execution_count": 44
        }
      ]
    },
    {
      "cell_type": "code",
      "source": [
        "y_test.shape"
      ],
      "metadata": {
        "colab": {
          "base_uri": "https://localhost:8080/"
        },
        "id": "w1nUsTaszVx6",
        "outputId": "ac9e1532-6d9b-4e8d-9450-1c32366ff19c"
      },
      "execution_count": 45,
      "outputs": [
        {
          "output_type": "execute_result",
          "data": {
            "text/plain": [
              "(30,)"
            ]
          },
          "metadata": {},
          "execution_count": 45
        }
      ]
    },
    {
      "cell_type": "markdown",
      "source": [
        "#**Evaluating The Model**"
      ],
      "metadata": {
        "id": "LVy1vYUwzc7M"
      }
    },
    {
      "cell_type": "code",
      "source": [
        "from sklearn.linear_model import LogisticRegression\n",
        "from sklearn.linear_model import SGDClassifier"
      ],
      "metadata": {
        "id": "WDSqyBrEzZjU"
      },
      "execution_count": 49,
      "outputs": []
    },
    {
      "cell_type": "code",
      "source": [
        "LogisticRegression_model = LogisticRegression()\n",
        "SGDClassifier_model = SGDClassifier(alpha=0.001)\n",
        "LogisticRegression_model.fit(x_train, y_train)\n",
        "SGDClassifier_model.fit(x_train, y_train)"
      ],
      "metadata": {
        "colab": {
          "base_uri": "https://localhost:8080/",
          "height": 74
        },
        "id": "zHUpnxucznEW",
        "outputId": "9d037097-905c-4a7e-f9c1-39abe6871e2d"
      },
      "execution_count": 50,
      "outputs": [
        {
          "output_type": "execute_result",
          "data": {
            "text/plain": [
              "SGDClassifier(alpha=0.001)"
            ],
            "text/html": [
              "<style>#sk-container-id-1 {color: black;background-color: white;}#sk-container-id-1 pre{padding: 0;}#sk-container-id-1 div.sk-toggleable {background-color: white;}#sk-container-id-1 label.sk-toggleable__label {cursor: pointer;display: block;width: 100%;margin-bottom: 0;padding: 0.3em;box-sizing: border-box;text-align: center;}#sk-container-id-1 label.sk-toggleable__label-arrow:before {content: \"▸\";float: left;margin-right: 0.25em;color: #696969;}#sk-container-id-1 label.sk-toggleable__label-arrow:hover:before {color: black;}#sk-container-id-1 div.sk-estimator:hover label.sk-toggleable__label-arrow:before {color: black;}#sk-container-id-1 div.sk-toggleable__content {max-height: 0;max-width: 0;overflow: hidden;text-align: left;background-color: #f0f8ff;}#sk-container-id-1 div.sk-toggleable__content pre {margin: 0.2em;color: black;border-radius: 0.25em;background-color: #f0f8ff;}#sk-container-id-1 input.sk-toggleable__control:checked~div.sk-toggleable__content {max-height: 200px;max-width: 100%;overflow: auto;}#sk-container-id-1 input.sk-toggleable__control:checked~label.sk-toggleable__label-arrow:before {content: \"▾\";}#sk-container-id-1 div.sk-estimator input.sk-toggleable__control:checked~label.sk-toggleable__label {background-color: #d4ebff;}#sk-container-id-1 div.sk-label input.sk-toggleable__control:checked~label.sk-toggleable__label {background-color: #d4ebff;}#sk-container-id-1 input.sk-hidden--visually {border: 0;clip: rect(1px 1px 1px 1px);clip: rect(1px, 1px, 1px, 1px);height: 1px;margin: -1px;overflow: hidden;padding: 0;position: absolute;width: 1px;}#sk-container-id-1 div.sk-estimator {font-family: monospace;background-color: #f0f8ff;border: 1px dotted black;border-radius: 0.25em;box-sizing: border-box;margin-bottom: 0.5em;}#sk-container-id-1 div.sk-estimator:hover {background-color: #d4ebff;}#sk-container-id-1 div.sk-parallel-item::after {content: \"\";width: 100%;border-bottom: 1px solid gray;flex-grow: 1;}#sk-container-id-1 div.sk-label:hover label.sk-toggleable__label {background-color: #d4ebff;}#sk-container-id-1 div.sk-serial::before {content: \"\";position: absolute;border-left: 1px solid gray;box-sizing: border-box;top: 0;bottom: 0;left: 50%;z-index: 0;}#sk-container-id-1 div.sk-serial {display: flex;flex-direction: column;align-items: center;background-color: white;padding-right: 0.2em;padding-left: 0.2em;position: relative;}#sk-container-id-1 div.sk-item {position: relative;z-index: 1;}#sk-container-id-1 div.sk-parallel {display: flex;align-items: stretch;justify-content: center;background-color: white;position: relative;}#sk-container-id-1 div.sk-item::before, #sk-container-id-1 div.sk-parallel-item::before {content: \"\";position: absolute;border-left: 1px solid gray;box-sizing: border-box;top: 0;bottom: 0;left: 50%;z-index: -1;}#sk-container-id-1 div.sk-parallel-item {display: flex;flex-direction: column;z-index: 1;position: relative;background-color: white;}#sk-container-id-1 div.sk-parallel-item:first-child::after {align-self: flex-end;width: 50%;}#sk-container-id-1 div.sk-parallel-item:last-child::after {align-self: flex-start;width: 50%;}#sk-container-id-1 div.sk-parallel-item:only-child::after {width: 0;}#sk-container-id-1 div.sk-dashed-wrapped {border: 1px dashed gray;margin: 0 0.4em 0.5em 0.4em;box-sizing: border-box;padding-bottom: 0.4em;background-color: white;}#sk-container-id-1 div.sk-label label {font-family: monospace;font-weight: bold;display: inline-block;line-height: 1.2em;}#sk-container-id-1 div.sk-label-container {text-align: center;}#sk-container-id-1 div.sk-container {/* jupyter's `normalize.less` sets `[hidden] { display: none; }` but bootstrap.min.css set `[hidden] { display: none !important; }` so we also need the `!important` here to be able to override the default hidden behavior on the sphinx rendered scikit-learn.org. See: https://github.com/scikit-learn/scikit-learn/issues/21755 */display: inline-block !important;position: relative;}#sk-container-id-1 div.sk-text-repr-fallback {display: none;}</style><div id=\"sk-container-id-1\" class=\"sk-top-container\"><div class=\"sk-text-repr-fallback\"><pre>SGDClassifier(alpha=0.001)</pre><b>In a Jupyter environment, please rerun this cell to show the HTML representation or trust the notebook. <br />On GitHub, the HTML representation is unable to render, please try loading this page with nbviewer.org.</b></div><div class=\"sk-container\" hidden><div class=\"sk-item\"><div class=\"sk-estimator sk-toggleable\"><input class=\"sk-toggleable__control sk-hidden--visually\" id=\"sk-estimator-id-1\" type=\"checkbox\" checked><label for=\"sk-estimator-id-1\" class=\"sk-toggleable__label sk-toggleable__label-arrow\">SGDClassifier</label><div class=\"sk-toggleable__content\"><pre>SGDClassifier(alpha=0.001)</pre></div></div></div></div></div>"
            ]
          },
          "metadata": {},
          "execution_count": 50
        }
      ]
    },
    {
      "cell_type": "code",
      "source": [
        "print(f\"the score in the train is ==> {LogisticRegression_model.score(x_train, y_train)}\")"
      ],
      "metadata": {
        "colab": {
          "base_uri": "https://localhost:8080/"
        },
        "id": "l6vO6vuC0B8d",
        "outputId": "cc77cfb0-9ad8-4251-c1fb-c831119e14f8"
      },
      "execution_count": 51,
      "outputs": [
        {
          "output_type": "stream",
          "name": "stdout",
          "text": [
            "the score in the train is ==> 0.9666666666666667\n"
          ]
        }
      ]
    },
    {
      "cell_type": "code",
      "source": [
        "print(f\"the score in the train is ==> {SGDClassifier_model.score(x_train, y_train)}\")"
      ],
      "metadata": {
        "colab": {
          "base_uri": "https://localhost:8080/"
        },
        "id": "nfTfuNQR0CZ9",
        "outputId": "6bf3d3bf-d190-49a7-e2be-48f54e6a89b0"
      },
      "execution_count": 52,
      "outputs": [
        {
          "output_type": "stream",
          "name": "stdout",
          "text": [
            "the score in the train is ==> 0.7166666666666667\n"
          ]
        }
      ]
    },
    {
      "cell_type": "code",
      "source": [
        "y_pred1 = LogisticRegression_model.predict(x_test)"
      ],
      "metadata": {
        "id": "GU9GLSjf0FNA"
      },
      "execution_count": 53,
      "outputs": []
    },
    {
      "cell_type": "code",
      "source": [
        "y_pred1"
      ],
      "metadata": {
        "colab": {
          "base_uri": "https://localhost:8080/"
        },
        "id": "q3JQFNTq0IEU",
        "outputId": "f26f84d1-34a5-43b7-c8bf-5ac1bc67854c"
      },
      "execution_count": 54,
      "outputs": [
        {
          "output_type": "execute_result",
          "data": {
            "text/plain": [
              "array([1, 2, 1, 1, 2, 0, 2, 1, 1, 2, 0, 1, 0, 1, 1, 0, 0, 0, 0, 0, 2, 0,\n",
              "       2, 0, 1, 2, 1, 0, 0, 0])"
            ]
          },
          "metadata": {},
          "execution_count": 54
        }
      ]
    },
    {
      "cell_type": "code",
      "source": [
        "y_pred2 =SGDClassifier_model.predict(x_test)"
      ],
      "metadata": {
        "id": "-6pFd6cY0KUp"
      },
      "execution_count": 55,
      "outputs": []
    },
    {
      "cell_type": "code",
      "source": [
        "y_pred2"
      ],
      "metadata": {
        "colab": {
          "base_uri": "https://localhost:8080/"
        },
        "id": "PHDSahre0Nib",
        "outputId": "61b957e3-d603-497d-f275-4937000f073a"
      },
      "execution_count": 56,
      "outputs": [
        {
          "output_type": "execute_result",
          "data": {
            "text/plain": [
              "array([1, 2, 2, 1, 2, 0, 2, 2, 2, 2, 0, 0, 0, 1, 2, 0, 0, 0, 0, 0, 2, 0,\n",
              "       2, 0, 2, 2, 0, 0, 0, 0])"
            ]
          },
          "metadata": {},
          "execution_count": 56
        }
      ]
    },
    {
      "cell_type": "markdown",
      "source": [
        "#**Accuracy**"
      ],
      "metadata": {
        "id": "vQ5IY6T-0QD5"
      }
    },
    {
      "cell_type": "code",
      "source": [
        "def accuracy_score(y_true, y_pred):\n",
        "    return np.mean(y_true == y_pred)"
      ],
      "metadata": {
        "id": "j_aIY0di0Vtc"
      },
      "execution_count": 58,
      "outputs": []
    },
    {
      "cell_type": "code",
      "source": [
        "print(f\"the accuracy is ==> {accuracy_score(y_test, y_pred1)}\")"
      ],
      "metadata": {
        "colab": {
          "base_uri": "https://localhost:8080/"
        },
        "id": "RKFDtNXo0Ole",
        "outputId": "b4e4e974-b72e-4784-97bb-dc2f6464a326"
      },
      "execution_count": 59,
      "outputs": [
        {
          "output_type": "stream",
          "name": "stdout",
          "text": [
            "the accuracy is ==> 1.0\n"
          ]
        }
      ]
    },
    {
      "cell_type": "code",
      "source": [
        "print(f\"the accuracy is ==> {accuracy_score(y_test, y_pred2)}\")"
      ],
      "metadata": {
        "colab": {
          "base_uri": "https://localhost:8080/"
        },
        "id": "rpnqz2Re0UVA",
        "outputId": "b0f94fc2-a54f-4b67-efbf-12beb0711fb2"
      },
      "execution_count": 60,
      "outputs": [
        {
          "output_type": "stream",
          "name": "stdout",
          "text": [
            "the accuracy is ==> 0.7666666666666667\n"
          ]
        }
      ]
    },
    {
      "cell_type": "markdown",
      "source": [
        "#**Classification Report**"
      ],
      "metadata": {
        "id": "oeyxppQ30jre"
      }
    },
    {
      "cell_type": "code",
      "source": [
        "from sklearn.metrics import classification_report\n",
        "print(classification_report(y_test, y_pred1))\n",
        "print(classification_report(y_test, y_pred2))"
      ],
      "metadata": {
        "colab": {
          "base_uri": "https://localhost:8080/"
        },
        "id": "KFRUWWFB0q3u",
        "outputId": "0de30b9d-3d59-4aed-91a1-3c45741d83d2"
      },
      "execution_count": 62,
      "outputs": [
        {
          "output_type": "stream",
          "name": "stdout",
          "text": [
            "              precision    recall  f1-score   support\n",
            "\n",
            "           0       1.00      1.00      1.00        13\n",
            "           1       1.00      1.00      1.00        10\n",
            "           2       1.00      1.00      1.00         7\n",
            "\n",
            "    accuracy                           1.00        30\n",
            "   macro avg       1.00      1.00      1.00        30\n",
            "weighted avg       1.00      1.00      1.00        30\n",
            "\n",
            "              precision    recall  f1-score   support\n",
            "\n",
            "           0       0.87      1.00      0.93        13\n",
            "           1       1.00      0.30      0.46        10\n",
            "           2       0.58      1.00      0.74         7\n",
            "\n",
            "    accuracy                           0.77        30\n",
            "   macro avg       0.82      0.77      0.71        30\n",
            "weighted avg       0.85      0.77      0.73        30\n",
            "\n"
          ]
        }
      ]
    },
    {
      "cell_type": "code",
      "source": [
        "print(classification_report(y_test, y_pred1))"
      ],
      "metadata": {
        "colab": {
          "base_uri": "https://localhost:8080/"
        },
        "id": "xbZ0N3Gl0gRf",
        "outputId": "cf4f48f1-882f-4ca6-f4de-c14e4b90a577"
      },
      "execution_count": 63,
      "outputs": [
        {
          "output_type": "stream",
          "name": "stdout",
          "text": [
            "              precision    recall  f1-score   support\n",
            "\n",
            "           0       1.00      1.00      1.00        13\n",
            "           1       1.00      1.00      1.00        10\n",
            "           2       1.00      1.00      1.00         7\n",
            "\n",
            "    accuracy                           1.00        30\n",
            "   macro avg       1.00      1.00      1.00        30\n",
            "weighted avg       1.00      1.00      1.00        30\n",
            "\n"
          ]
        }
      ]
    },
    {
      "cell_type": "code",
      "source": [
        "# Confusion_matrix\n",
        "def confusion_matrix(y_true, y_pred):\n",
        "    cm = np.zeros((len(np.unique(y_true)), len(np.unique(y_pred))))\n",
        "    for i in range(len(y_true)):\n",
        "        cm[y_true[i], y_pred[i]] += 1\n",
        "    return cm"
      ],
      "metadata": {
        "id": "HrU0QU4809G6"
      },
      "execution_count": 65,
      "outputs": []
    },
    {
      "cell_type": "code",
      "source": [
        "print(f\"{confusion_matrix(y_test, y_pred1)}\")"
      ],
      "metadata": {
        "colab": {
          "base_uri": "https://localhost:8080/"
        },
        "id": "qnPCWM5N0pZi",
        "outputId": "53dfcaa8-f441-4158-ecbe-3cf3190b94d4"
      },
      "execution_count": 66,
      "outputs": [
        {
          "output_type": "stream",
          "name": "stdout",
          "text": [
            "[[13.  0.  0.]\n",
            " [ 0. 10.  0.]\n",
            " [ 0.  0.  7.]]\n"
          ]
        }
      ]
    },
    {
      "cell_type": "code",
      "source": [
        "print(f\"{confusion_matrix(y_test, y_pred2)}\")"
      ],
      "metadata": {
        "colab": {
          "base_uri": "https://localhost:8080/"
        },
        "id": "d0A4xbDu06lO",
        "outputId": "346ee3b6-85e2-4bed-a3a8-42af987cac7d"
      },
      "execution_count": 67,
      "outputs": [
        {
          "output_type": "stream",
          "name": "stdout",
          "text": [
            "[[13.  0.  0.]\n",
            " [ 2.  3.  5.]\n",
            " [ 0.  0.  7.]]\n"
          ]
        }
      ]
    },
    {
      "cell_type": "code",
      "source": [
        "plt.figure(figsize=(7, 5))\n",
        "plt.plot(y_test, c=\"green\", label=\"true\")\n",
        "plt.title(\"Actual data\")\n",
        "plt.legend()\n",
        "plt.show()"
      ],
      "metadata": {
        "colab": {
          "base_uri": "https://localhost:8080/",
          "height": 468
        },
        "id": "T4qiE0el1KqG",
        "outputId": "9d46f6ea-5bdf-401e-eb1d-ebe7a7f61761"
      },
      "execution_count": 68,
      "outputs": [
        {
          "output_type": "display_data",
          "data": {
            "text/plain": [
              "<Figure size 700x500 with 1 Axes>"
            ],
            "image/png": "[encoded data removed]"
          },
          "metadata": {}
        }
      ]
    },
    {
      "cell_type": "code",
      "source": [
        "plt.figure(figsize=(7, 5))\n",
        "plt.plot(y_pred1, c=\"red\", label=\"pred\")\n",
        "plt.title(\"predicted data\")\n",
        "plt.legend()\n",
        "plt.show()"
      ],
      "metadata": {
        "colab": {
          "base_uri": "https://localhost:8080/",
          "height": 468
        },
        "id": "SuCR8Lxw1Nfh",
        "outputId": "f3f59c70-83f1-4fa9-ec45-9dbf08e6c36e"
      },
      "execution_count": 69,
      "outputs": [
        {
          "output_type": "display_data",
          "data": {
            "text/plain": [
              "<Figure size 700x500 with 1 Axes>"
            ],
            "image/png": "[encoded data removed]"
          },
          "metadata": {}
        }
      ]
    },
    {
      "cell_type": "code",
      "source": [
        "from sklearn.linear_model import SGDClassifier\n",
        "plt.figure(figsize=(7, 5))\n",
        "plt.plot(y_test, color=\"green\", label=\"acual\")\n",
        "plt.plot(y_pred2, color=\"red\", label=\"pred\")\n",
        "plt.title(\"acual vs pred\", c=\"blue\", fontsize=15)\n",
        "plt.legend()\n",
        "plt.show()"
      ],
      "metadata": {
        "colab": {
          "base_uri": "https://localhost:8080/",
          "height": 470
        },
        "id": "ro6NFWfk1Qs0",
        "outputId": "a2ae8b4e-d5ee-4730-ed7d-b473b3ee34de"
      },
      "execution_count": 70,
      "outputs": [
        {
          "output_type": "display_data",
          "data": {
            "text/plain": [
              "<Figure size 700x500 with 1 Axes>"
            ],
            "image/png": "[encoded data removed]"
          },
          "metadata": {}
        }
      ]
    }
  ]
}